{
 "cells": [
  {
   "cell_type": "code",
   "execution_count": 36,
   "id": "49aaba13-503c-4a88-9194-a0af0b19a051",
   "metadata": {},
   "outputs": [
    {
     "name": "stdout",
     "output_type": "stream",
     "text": [
      "Please upload all relevant files!\n"
     ]
    },
    {
     "data": {
      "application/vnd.jupyter.widget-view+json": {
       "model_id": "9a5a1ef3e8db4cb7a4aca35b0d9b507d",
       "version_major": 2,
       "version_minor": 0
      },
      "text/plain": [
       "FileUpload(value=(), accept='*', description='Upload')"
      ]
     },
     "metadata": {},
     "output_type": "display_data"
    }
   ],
   "source": [
    "from ipywidgets import FileUpload\n",
    "from IPython.display import display\n",
    "import ipywidgets as widgets\n",
    "import os\n",
    "\n",
    "upload_widget = FileUpload(accept='*', multiple=False)\n",
    "\n",
    "print(\"Please upload all relevant files!\")\n",
    "display(upload_widget)\n",
    "\n",
    "\n",
    "def handle_upload(change):\n",
    "    print(upload_widget.value)\n",
    "\n",
    "    uploaded_file = upload_widget.value[0]\n",
    "\n",
    "    \n",
    "    # Get file content and metadata\n",
    "    filename = uploaded_file['name']\n",
    "    file_content = uploaded_file['content']\n",
    "    print(filename)\n",
    "    print(file_content)\n",
    "    \n",
    "    # Define the destination folder\n",
    "    destination_folder = './documents'\n",
    "        \n",
    "    # Ensure the destination folder exists\n",
    "    os.makedirs(destination_folder, exist_ok=True)\n",
    "        \n",
    "    # Define the path where the file will be moved\n",
    "    destination_path = os.path.join(destination_folder, filename)\n",
    "    print(destination_path)\n",
    "        \n",
    "    # Write the file to the destination folder\n",
    "    with open(destination_path, 'wb') as f:\n",
    "        f.write(file_content)\n",
    "\n",
    "\n",
    "# Attach the function to the upload widget\n",
    "upload_widget.observe(handle_upload, names='value')\n"
   ]
  },
  {
   "cell_type": "code",
   "execution_count": null,
   "id": "87bbc8b3-0c52-4aa4-be6c-5a386ed04dd4",
   "metadata": {},
   "outputs": [],
   "source": []
  },
  {
   "cell_type": "code",
   "execution_count": null,
   "id": "dab5a5d7-5b87-433d-8ad8-b482f2b6aca3",
   "metadata": {},
   "outputs": [],
   "source": []
  }
 ],
 "metadata": {
  "kernelspec": {
   "display_name": "Python 3 (ipykernel)",
   "language": "python",
   "name": "python3"
  },
  "language_info": {
   "codemirror_mode": {
    "name": "ipython",
    "version": 3
   },
   "file_extension": ".py",
   "mimetype": "text/x-python",
   "name": "python",
   "nbconvert_exporter": "python",
   "pygments_lexer": "ipython3",
   "version": "3.12.5"
  }
 },
 "nbformat": 4,
 "nbformat_minor": 5
}
