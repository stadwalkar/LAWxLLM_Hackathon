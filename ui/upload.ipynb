{
 "cells": [
  {
   "cell_type": "code",
   "execution_count": 23,
   "id": "49aaba13-503c-4a88-9194-a0af0b19a051",
   "metadata": {},
   "outputs": [
    {
     "data": {
      "application/vnd.jupyter.widget-view+json": {
       "model_id": "0da97b8943414c5689e0b644c9c6a39d",
       "version_major": 2,
       "version_minor": 0
      },
      "text/plain": [
       "FileUpload(value=(), accept='*', description='Upload', multiple=True)"
      ]
     },
     "metadata": {},
     "output_type": "display_data"
    }
   ],
   "source": [
    "from ipywidgets import FileUpload\n",
    "import ipywidgets as widgets\n",
    "import os\n",
    "from IPython.display import display\n",
    "upload_widget = FileUpload(accept='*', multiple=True)\n",
    "display(upload_widget)\n",
    "\n",
    "\n",
    "def handle_upload(change):\n",
    "    print(upload_widget.value)\n",
    "    for file_info in upload_widget.value:\n",
    "        # Get file content and metadata\n",
    "        file_content = file_info['content']\n",
    "        filename = file_info['name']\n",
    "        # Define the destination folder\n",
    "        destination_folder = './documents'\n",
    "        \n",
    "        # Ensure the destination folder exists\n",
    "        os.makedirs(destination_folder, exist_ok=True)\n",
    "        \n",
    "        # Define the path where the file will be moved\n",
    "        destination_path = os.path.join(destination_folder, filename)\n",
    "        \n",
    "        # Write the file to the destination folder\n",
    "        with open(destination_path, 'wb') as f:\n",
    "            f.write(file_content)\n",
    "\n",
    "\n",
    "# Attach the function to the upload widget\n",
    "upload_widget.observe(handle_upload, names='value')\n"
   ]
  },
  {
   "cell_type": "code",
   "execution_count": null,
   "id": "87bbc8b3-0c52-4aa4-be6c-5a386ed04dd4",
   "metadata": {},
   "outputs": [],
   "source": []
  },
  {
   "cell_type": "code",
   "execution_count": null,
   "id": "dab5a5d7-5b87-433d-8ad8-b482f2b6aca3",
   "metadata": {},
   "outputs": [],
   "source": []
  }
 ],
 "metadata": {
  "kernelspec": {
   "display_name": "Python 3 (ipykernel)",
   "language": "python",
   "name": "python3"
  },
  "language_info": {
   "codemirror_mode": {
    "name": "ipython",
    "version": 3
   },
   "file_extension": ".py",
   "mimetype": "text/x-python",
   "name": "python",
   "nbconvert_exporter": "python",
   "pygments_lexer": "ipython3",
   "version": "3.12.5"
  }
 },
 "nbformat": 4,
 "nbformat_minor": 5
}
