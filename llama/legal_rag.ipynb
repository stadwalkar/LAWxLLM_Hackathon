{
 "cells": [
  {
   "cell_type": "markdown",
   "metadata": {},
   "source": [
    "# Building a RAG Pipeline over Legal Documents\n",
    "\n",
    "<a href=\"https://colab.research.google.com/github/run-llama/llama_parse/blob/main/examples/multimodal/legal_rag.ipynb\" target=\"_parent\"><img src=\"https://colab.research.google.com/assets/colab-badge.svg\" alt=\"Open In Colab\"/></a>\n",
    "\n",
    "This example shows how LlamaParse and LlamaIndex can be used to parse various types of legal documents, which may contain complex tabular data. The advantage of this is being able to quickly retrieve a specific answer to a legal question with comprehensive context — knowledge of precedents, statutes, and cases presented in the given documents. A user can quickly find the answer to or find out more details about a specific legal question without having to read through the often long documents by using LLMs.\n",
    "\n",
    "In this example, we will be using legal documents from the archive of the Library of Congress ([link to dataset](https://www.loc.gov/item/2020445568/)). These documents vary by format, with some containing pure text and others containing headings, sections, and large tables. This shows how LlamaParse can parse a wide variety of documents and still retrieve accurate results.\n",
    "\n",
    "The documents in this example include:\n",
    "- [APA Program Report](https://www.irs.gov/pub/irs-apa/a_2003-19.pdf)\n",
    "- [2004 Report on the CRA performance of Barre Savings Bank in Barre, MA](https://github.com/user-attachments/files/16536412/barre_savings_bank_evaluation.pdf)\n",
    "- [2016 Energy Supply/Demand Forecast](https://github.com/user-attachments/files/16536415/energy_supply_demand.pdf)\n",
    "- [Transcript of Senate Committee Hearing about Foreign Markets](https://github.com/user-attachments/files/16536422/foreign_markets.pdf)\n",
    "- [A Motion To Stay for an Indiana Court Case](https://github.com/user-attachments/files/16536427/motion_to_stay.pdf)\n",
    "- [Article About an OC Representative's Bill to Introduce Offshore Drilling to CA](https://github.com/user-attachments/files/16536437/oc_bill_offshore_drilling.pdf)\n",
    "- [Charter of the Subcommittee on Ocean Science and Technology](https://github.com/user-attachments/files/16536445/ost_subcommittee_charter.pdf)\n",
    "- [US Immigration Case](https://github.com/user-attachments/files/16536446/us_immigration_case.pdf)"
   ]
  },
  {
   "cell_type": "markdown",
   "metadata": {},
   "source": [
    "## Setup and Installation"
   ]
  },
  {
   "cell_type": "markdown",
   "metadata": {},
   "source": [
    "Install LlamaIndex, download the data, and apply `nest_asyncio`."
   ]
  },
  {
   "cell_type": "code",
   "execution_count": 1,
   "metadata": {
    "scrolled": false
   },
   "outputs": [
    {
     "name": "stdout",
     "output_type": "stream",
     "text": [
      "Note: you may need to restart the kernel to use updated packages.\n"
     ]
    },
    {
     "name": "stderr",
     "output_type": "stream",
     "text": [
      "WARNING: Ignoring invalid distribution -illow (c:\\users\\sahil\\appdata\\roaming\\python\\python39\\site-packages)\n",
      "WARNING: Ignoring invalid distribution -illow (c:\\users\\sahil\\appdata\\roaming\\python\\python39\\site-packages)\n",
      "WARNING: Ignoring invalid distribution -illow (c:\\users\\sahil\\appdata\\roaming\\python\\python39\\site-packages)\n",
      "WARNING: Ignoring invalid distribution -illow (c:\\users\\sahil\\appdata\\roaming\\python\\python39\\site-packages)\n",
      "WARNING: Ignoring invalid distribution -illow (c:\\users\\sahil\\appdata\\roaming\\python\\python39\\site-packages)\n",
      "WARNING: Ignoring invalid distribution -illow (c:\\users\\sahil\\appdata\\roaming\\python\\python39\\site-packages)"
     ]
    },
    {
     "name": "stdout",
     "output_type": "stream",
     "text": [
      "Requirement already satisfied: llama-parse in c:\\users\\sahil\\anaconda3\\lib\\site-packages (0.5.2)\n",
      "Requirement already satisfied: llama-index-core>=0.11.0 in c:\\users\\sahil\\anaconda3\\lib\\site-packages (from llama-parse) (0.11.7)\n",
      "Requirement already satisfied: tenacity!=8.4.0,<9.0.0,>=8.2.0 in c:\\users\\sahil\\anaconda3\\lib\\site-packages (from llama-index-core>=0.11.0->llama-parse) (8.5.0)\n",
      "Requirement already satisfied: typing-extensions>=4.5.0 in c:\\users\\sahil\\anaconda3\\lib\\site-packages (from llama-index-core>=0.11.0->llama-parse) (4.12.2)\n",
      "Requirement already satisfied: aiohttp<4.0.0,>=3.8.6 in c:\\users\\sahil\\anaconda3\\lib\\site-packages (from llama-index-core>=0.11.0->llama-parse) (3.10.5)\n",
      "Requirement already satisfied: pydantic<3.0.0,>=2.7.0 in c:\\users\\sahil\\anaconda3\\lib\\site-packages (from llama-index-core>=0.11.0->llama-parse) (2.9.0)\n",
      "Requirement already satisfied: nest-asyncio<2.0.0,>=1.5.8 in c:\\users\\sahil\\anaconda3\\lib\\site-packages (from llama-index-core>=0.11.0->llama-parse) (1.6.0)\n",
      "Requirement already satisfied: httpx in c:\\users\\sahil\\anaconda3\\lib\\site-packages (from llama-index-core>=0.11.0->llama-parse) (0.27.2)\n",
      "Requirement already satisfied: numpy<2.0.0 in c:\\users\\sahil\\appdata\\roaming\\python\\python39\\site-packages (from llama-index-core>=0.11.0->llama-parse) (1.22.4)\n",
      "Requirement already satisfied: networkx>=3.0 in c:\\users\\sahil\\anaconda3\\lib\\site-packages (from llama-index-core>=0.11.0->llama-parse) (3.2.1)\n",
      "Requirement already satisfied: PyYAML>=6.0.1 in c:\\users\\sahil\\anaconda3\\lib\\site-packages (from llama-index-core>=0.11.0->llama-parse) (6.0.2)\n",
      "Requirement already satisfied: pillow>=9.0.0 in c:\\users\\sahil\\anaconda3\\lib\\site-packages (from llama-index-core>=0.11.0->llama-parse) (10.4.0)\n",
      "Requirement already satisfied: deprecated>=1.2.9.3 in c:\\users\\sahil\\anaconda3\\lib\\site-packages (from llama-index-core>=0.11.0->llama-parse) (1.2.14)\n",
      "Requirement already satisfied: SQLAlchemy[asyncio]>=1.4.49 in c:\\users\\sahil\\anaconda3\\lib\\site-packages (from llama-index-core>=0.11.0->llama-parse) (2.0.34)\n",
      "Requirement already satisfied: nltk>3.8.1 in c:\\users\\sahil\\anaconda3\\lib\\site-packages (from llama-index-core>=0.11.0->llama-parse) (3.9.1)\n",
      "Requirement already satisfied: requests>=2.31.0 in c:\\users\\sahil\\anaconda3\\lib\\site-packages (from llama-index-core>=0.11.0->llama-parse) (2.32.3)\n",
      "Requirement already satisfied: tiktoken>=0.3.3 in c:\\users\\sahil\\anaconda3\\lib\\site-packages (from llama-index-core>=0.11.0->llama-parse) (0.7.0)\n",
      "Requirement already satisfied: fsspec>=2023.5.0 in c:\\users\\sahil\\anaconda3\\lib\\site-packages (from llama-index-core>=0.11.0->llama-parse) (2024.9.0)\n",
      "Requirement already satisfied: wrapt in c:\\users\\sahil\\anaconda3\\lib\\site-packages (from llama-index-core>=0.11.0->llama-parse) (1.12.1)\n",
      "Requirement already satisfied: dataclasses-json in c:\\users\\sahil\\anaconda3\\lib\\site-packages (from llama-index-core>=0.11.0->llama-parse) (0.6.7)\n",
      "Requirement already satisfied: dirtyjson<2.0.0,>=1.0.8 in c:\\users\\sahil\\anaconda3\\lib\\site-packages (from llama-index-core>=0.11.0->llama-parse) (1.0.8)\n",
      "Requirement already satisfied: tqdm<5.0.0,>=4.66.1 in c:\\users\\sahil\\anaconda3\\lib\\site-packages (from llama-index-core>=0.11.0->llama-parse) (4.66.5)\n",
      "Requirement already satisfied: typing-inspect>=0.8.0 in c:\\users\\sahil\\anaconda3\\lib\\site-packages (from llama-index-core>=0.11.0->llama-parse) (0.9.0)\n",
      "Requirement already satisfied: yarl<2.0,>=1.0 in c:\\users\\sahil\\anaconda3\\lib\\site-packages (from aiohttp<4.0.0,>=3.8.6->llama-index-core>=0.11.0->llama-parse) (1.10.0)\n",
      "Requirement already satisfied: aiohappyeyeballs>=2.3.0 in c:\\users\\sahil\\anaconda3\\lib\\site-packages (from aiohttp<4.0.0,>=3.8.6->llama-index-core>=0.11.0->llama-parse) (2.4.0)\n",
      "Requirement already satisfied: async-timeout<5.0,>=4.0 in c:\\users\\sahil\\anaconda3\\lib\\site-packages (from aiohttp<4.0.0,>=3.8.6->llama-index-core>=0.11.0->llama-parse) (4.0.3)\n",
      "Requirement already satisfied: aiosignal>=1.1.2 in c:\\users\\sahil\\anaconda3\\lib\\site-packages (from aiohttp<4.0.0,>=3.8.6->llama-index-core>=0.11.0->llama-parse) (1.3.1)\n",
      "Requirement already satisfied: multidict<7.0,>=4.5 in c:\\users\\sahil\\anaconda3\\lib\\site-packages (from aiohttp<4.0.0,>=3.8.6->llama-index-core>=0.11.0->llama-parse) (6.0.5)\n",
      "Requirement already satisfied: attrs>=17.3.0 in c:\\users\\sahil\\anaconda3\\lib\\site-packages (from aiohttp<4.0.0,>=3.8.6->llama-index-core>=0.11.0->llama-parse) (21.2.0)\n",
      "Requirement already satisfied: frozenlist>=1.1.1 in c:\\users\\sahil\\anaconda3\\lib\\site-packages (from aiohttp<4.0.0,>=3.8.6->llama-index-core>=0.11.0->llama-parse) (1.4.1)\n",
      "Requirement already satisfied: click in c:\\users\\sahil\\anaconda3\\lib\\site-packages (from nltk>3.8.1->llama-index-core>=0.11.0->llama-parse) (8.0.3)\n",
      "Requirement already satisfied: regex>=2021.8.3 in c:\\users\\sahil\\anaconda3\\lib\\site-packages (from nltk>3.8.1->llama-index-core>=0.11.0->llama-parse) (2024.7.24)\n",
      "Requirement already satisfied: joblib in c:\\users\\sahil\\anaconda3\\lib\\site-packages (from nltk>3.8.1->llama-index-core>=0.11.0->llama-parse) (1.1.0)\n",
      "Requirement already satisfied: annotated-types>=0.4.0 in c:\\users\\sahil\\anaconda3\\lib\\site-packages (from pydantic<3.0.0,>=2.7.0->llama-index-core>=0.11.0->llama-parse) (0.7.0)\n",
      "Requirement already satisfied: pydantic-core==2.23.2 in c:\\users\\sahil\\anaconda3\\lib\\site-packages (from pydantic<3.0.0,>=2.7.0->llama-index-core>=0.11.0->llama-parse) (2.23.2)\n",
      "Requirement already satisfied: tzdata in c:\\users\\sahil\\anaconda3\\lib\\site-packages (from pydantic<3.0.0,>=2.7.0->llama-index-core>=0.11.0->llama-parse) (2024.1)\n",
      "Requirement already satisfied: idna<4,>=2.5 in c:\\users\\sahil\\anaconda3\\lib\\site-packages (from requests>=2.31.0->llama-index-core>=0.11.0->llama-parse) (3.2)\n",
      "Requirement already satisfied: charset-normalizer<4,>=2 in c:\\users\\sahil\\anaconda3\\lib\\site-packages (from requests>=2.31.0->llama-index-core>=0.11.0->llama-parse) (2.0.4)\n",
      "Requirement already satisfied: urllib3<3,>=1.21.1 in c:\\users\\sahil\\anaconda3\\lib\\site-packages (from requests>=2.31.0->llama-index-core>=0.11.0->llama-parse) (1.26.7)\n",
      "Requirement already satisfied: certifi>=2017.4.17 in c:\\users\\sahil\\appdata\\roaming\\python\\python39\\site-packages (from requests>=2.31.0->llama-index-core>=0.11.0->llama-parse) (2022.5.18.1)\n",
      "Requirement already satisfied: greenlet!=0.4.17 in c:\\users\\sahil\\anaconda3\\lib\\site-packages (from SQLAlchemy[asyncio]>=1.4.49->llama-index-core>=0.11.0->llama-parse) (1.1.1)\n",
      "Requirement already satisfied: colorama in c:\\users\\sahil\\anaconda3\\lib\\site-packages (from tqdm<5.0.0,>=4.66.1->llama-index-core>=0.11.0->llama-parse) (0.4.4)\n",
      "Requirement already satisfied: mypy-extensions>=0.3.0 in c:\\users\\sahil\\anaconda3\\lib\\site-packages (from typing-inspect>=0.8.0->llama-index-core>=0.11.0->llama-parse) (0.4.3)\n",
      "Requirement already satisfied: marshmallow<4.0.0,>=3.18.0 in c:\\users\\sahil\\anaconda3\\lib\\site-packages (from dataclasses-json->llama-index-core>=0.11.0->llama-parse) (3.22.0)\n",
      "Requirement already satisfied: packaging>=17.0 in c:\\users\\sahil\\anaconda3\\lib\\site-packages (from marshmallow<4.0.0,>=3.18.0->dataclasses-json->llama-index-core>=0.11.0->llama-parse) (21.0)\n",
      "Requirement already satisfied: pyparsing>=2.0.2 in c:\\users\\sahil\\anaconda3\\lib\\site-packages (from packaging>=17.0->marshmallow<4.0.0,>=3.18.0->dataclasses-json->llama-index-core>=0.11.0->llama-parse) (3.0.4)\n",
      "Requirement already satisfied: anyio in c:\\users\\sahil\\anaconda3\\lib\\site-packages (from httpx->llama-index-core>=0.11.0->llama-parse) (4.4.0)\n",
      "Requirement already satisfied: httpcore==1.* in c:\\users\\sahil\\anaconda3\\lib\\site-packages (from httpx->llama-index-core>=0.11.0->llama-parse) (1.0.5)\n",
      "Requirement already satisfied: sniffio in c:\\users\\sahil\\anaconda3\\lib\\site-packages (from httpx->llama-index-core>=0.11.0->llama-parse) (1.2.0)\n",
      "Requirement already satisfied: h11<0.15,>=0.13 in c:\\users\\sahil\\anaconda3\\lib\\site-packages (from httpcore==1.*->httpx->llama-index-core>=0.11.0->llama-parse) (0.14.0)\n",
      "Requirement already satisfied: exceptiongroup>=1.0.2 in c:\\users\\sahil\\anaconda3\\lib\\site-packages (from anyio->httpx->llama-index-core>=0.11.0->llama-parse) (1.2.2)\n"
     ]
    },
    {
     "name": "stderr",
     "output_type": "stream",
     "text": [
      "\n"
     ]
    }
   ],
   "source": [
    "pip install llama-parse\n"
   ]
  },
  {
   "cell_type": "code",
   "execution_count": 2,
   "metadata": {},
   "outputs": [
    {
     "name": "stdout",
     "output_type": "stream",
     "text": [
      "Requirement already satisfied: llama-index in c:\\users\\sahil\\anaconda3\\lib\\site-packages (0.11.7)\n",
      "Requirement already satisfied: llama-parse in c:\\users\\sahil\\anaconda3\\lib\\site-packages (0.5.2)\n",
      "Requirement already satisfied: llama-index-core<0.12.0,>=0.11.7 in c:\\users\\sahil\\anaconda3\\lib\\site-packages (from llama-index) (0.11.7)\n",
      "Requirement already satisfied: llama-index-indices-managed-llama-cloud>=0.3.0 in c:\\users\\sahil\\anaconda3\\lib\\site-packages (from llama-index) (0.3.0)\n",
      "Requirement already satisfied: llama-index-legacy<0.10.0,>=0.9.48 in c:\\users\\sahil\\anaconda3\\lib\\site-packages (from llama-index) (0.9.48.post3)\n",
      "Requirement already satisfied: llama-index-multi-modal-llms-openai<0.3.0,>=0.2.0 in c:\\users\\sahil\\anaconda3\\lib\\site-packages (from llama-index) (0.2.0)\n",
      "Requirement already satisfied: llama-index-cli<0.4.0,>=0.3.0 in c:\\users\\sahil\\anaconda3\\lib\\site-packages (from llama-index) (0.3.0)\n",
      "Requirement already satisfied: nltk>3.8.1 in c:\\users\\sahil\\anaconda3\\lib\\site-packages (from llama-index) (3.9.1)\n",
      "Requirement already satisfied: llama-index-llms-openai<0.3.0,>=0.2.3 in c:\\users\\sahil\\anaconda3\\lib\\site-packages (from llama-index) (0.2.3)\n",
      "Requirement already satisfied: llama-index-question-gen-openai<0.3.0,>=0.2.0 in c:\\users\\sahil\\anaconda3\\lib\\site-packages (from llama-index) (0.2.0)\n",
      "Requirement already satisfied: llama-index-readers-llama-parse>=0.3.0 in c:\\users\\sahil\\anaconda3\\lib\\site-packages (from llama-index) (0.3.0)\n",
      "Requirement already satisfied: llama-index-program-openai<0.3.0,>=0.2.0 in c:\\users\\sahil\\anaconda3\\lib\\site-packages (from llama-index) (0.2.0)\n",
      "Requirement already satisfied: llama-index-agent-openai<0.4.0,>=0.3.1 in c:\\users\\sahil\\anaconda3\\lib\\site-packages (from llama-index) (0.3.1)\n",
      "Requirement already satisfied: llama-index-readers-file<0.3.0,>=0.2.0 in c:\\users\\sahil\\anaconda3\\lib\\site-packages (from llama-index) (0.2.1)\n",
      "Requirement already satisfied: llama-index-embeddings-openai<0.3.0,>=0.2.4 in c:\\users\\sahil\\anaconda3\\lib\\site-packages (from llama-index) (0.2.4)\n",
      "Requirement already satisfied: openai>=1.14.0 in c:\\users\\sahil\\anaconda3\\lib\\site-packages (from llama-index-agent-openai<0.4.0,>=0.3.1->llama-index) (1.44.0)\n",
      "Requirement already satisfied: fsspec>=2023.5.0 in c:\\users\\sahil\\anaconda3\\lib\\site-packages (from llama-index-core<0.12.0,>=0.11.7->llama-index) (2024.9.0)\n",
      "Requirement already satisfied: wrapt in c:\\users\\sahil\\anaconda3\\lib\\site-packages (from llama-index-core<0.12.0,>=0.11.7->llama-index) (1.12.1)\n",
      "Requirement already satisfied: networkx>=3.0 in c:\\users\\sahil\\anaconda3\\lib\\site-packages (from llama-index-core<0.12.0,>=0.11.7->llama-index) (3.2.1)\n",
      "Requirement already satisfied: requests>=2.31.0 in c:\\users\\sahil\\anaconda3\\lib\\site-packages (from llama-index-core<0.12.0,>=0.11.7->llama-index) (2.32.3)\n",
      "Requirement already satisfied: PyYAML>=6.0.1 in c:\\users\\sahil\\anaconda3\\lib\\site-packages (from llama-index-core<0.12.0,>=0.11.7->llama-index) (6.0.2)\n",
      "Requirement already satisfied: numpy<2.0.0 in c:\\users\\sahil\\appdata\\roaming\\python\\python39\\site-packages (from llama-index-core<0.12.0,>=0.11.7->llama-index) (1.22.4)\n",
      "Requirement already satisfied: tiktoken>=0.3.3 in c:\\users\\sahil\\anaconda3\\lib\\site-packages (from llama-index-core<0.12.0,>=0.11.7->llama-index) (0.7.0)\n",
      "Requirement already satisfied: dirtyjson<2.0.0,>=1.0.8 in c:\\users\\sahil\\anaconda3\\lib\\site-packages (from llama-index-core<0.12.0,>=0.11.7->llama-index) (1.0.8)\n",
      "Requirement already satisfied: typing-extensions>=4.5.0 in c:\\users\\sahil\\anaconda3\\lib\\site-packages (from llama-index-core<0.12.0,>=0.11.7->llama-index) (4.12.2)\n",
      "Requirement already satisfied: aiohttp<4.0.0,>=3.8.6 in c:\\users\\sahil\\anaconda3\\lib\\site-packages (from llama-index-core<0.12.0,>=0.11.7->llama-index) (3.10.5)\n",
      "Requirement already satisfied: SQLAlchemy[asyncio]>=1.4.49 in c:\\users\\sahil\\anaconda3\\lib\\site-packages (from llama-index-core<0.12.0,>=0.11.7->llama-index) (2.0.34)\n",
      "Requirement already satisfied: dataclasses-json in c:\\users\\sahil\\anaconda3\\lib\\site-packages (from llama-index-core<0.12.0,>=0.11.7->llama-index) (0.6.7)\n",
      "Requirement already satisfied: deprecated>=1.2.9.3 in c:\\users\\sahil\\anaconda3\\lib\\site-packages (from llama-index-core<0.12.0,>=0.11.7->llama-index) (1.2.14)\n",
      "Requirement already satisfied: typing-inspect>=0.8.0 in c:\\users\\sahil\\anaconda3\\lib\\site-packages (from llama-index-core<0.12.0,>=0.11.7->llama-index) (0.9.0)\n",
      "Requirement already satisfied: nest-asyncio<2.0.0,>=1.5.8 in c:\\users\\sahil\\anaconda3\\lib\\site-packages (from llama-index-core<0.12.0,>=0.11.7->llama-index) (1.6.0)\n",
      "Requirement already satisfied: pydantic<3.0.0,>=2.7.0 in c:\\users\\sahil\\anaconda3\\lib\\site-packages (from llama-index-core<0.12.0,>=0.11.7->llama-index) (2.9.0)\n",
      "Requirement already satisfied: pillow>=9.0.0 in c:\\users\\sahil\\anaconda3\\lib\\site-packages (from llama-index-core<0.12.0,>=0.11.7->llama-index) (10.4.0)\n",
      "Requirement already satisfied: httpx in c:\\users\\sahil\\anaconda3\\lib\\site-packages (from llama-index-core<0.12.0,>=0.11.7->llama-index) (0.27.2)\n",
      "Requirement already satisfied: tenacity!=8.4.0,<9.0.0,>=8.2.0 in c:\\users\\sahil\\anaconda3\\lib\\site-packages (from llama-index-core<0.12.0,>=0.11.7->llama-index) (8.5.0)\n",
      "Requirement already satisfied: tqdm<5.0.0,>=4.66.1 in c:\\users\\sahil\\anaconda3\\lib\\site-packages (from llama-index-core<0.12.0,>=0.11.7->llama-index) (4.66.5)\n",
      "Requirement already satisfied: aiosignal>=1.1.2 in c:\\users\\sahil\\anaconda3\\lib\\site-packages (from aiohttp<4.0.0,>=3.8.6->llama-index-core<0.12.0,>=0.11.7->llama-index) (1.3.1)\n",
      "Requirement already satisfied: attrs>=17.3.0 in c:\\users\\sahil\\anaconda3\\lib\\site-packages (from aiohttp<4.0.0,>=3.8.6->llama-index-core<0.12.0,>=0.11.7->llama-index) (21.2.0)\n",
      "Requirement already satisfied: frozenlist>=1.1.1 in c:\\users\\sahil\\anaconda3\\lib\\site-packages (from aiohttp<4.0.0,>=3.8.6->llama-index-core<0.12.0,>=0.11.7->llama-index) (1.4.1)\n",
      "Requirement already satisfied: multidict<7.0,>=4.5 in c:\\users\\sahil\\anaconda3\\lib\\site-packages (from aiohttp<4.0.0,>=3.8.6->llama-index-core<0.12.0,>=0.11.7->llama-index) (6.0.5)\n",
      "Requirement already satisfied: yarl<2.0,>=1.0 in c:\\users\\sahil\\anaconda3\\lib\\site-packages (from aiohttp<4.0.0,>=3.8.6->llama-index-core<0.12.0,>=0.11.7->llama-index) (1.10.0)\n",
      "Requirement already satisfied: aiohappyeyeballs>=2.3.0 in c:\\users\\sahil\\anaconda3\\lib\\site-packages (from aiohttp<4.0.0,>=3.8.6->llama-index-core<0.12.0,>=0.11.7->llama-index) (2.4.0)\n",
      "Requirement already satisfied: async-timeout<5.0,>=4.0 in c:\\users\\sahil\\anaconda3\\lib\\site-packages (from aiohttp<4.0.0,>=3.8.6->llama-index-core<0.12.0,>=0.11.7->llama-index) (4.0.3)\n",
      "Requirement already satisfied: llama-cloud>=0.0.11 in c:\\users\\sahil\\anaconda3\\lib\\site-packages (from llama-index-indices-managed-llama-cloud>=0.3.0->llama-index) (0.0.17)\n",
      "Requirement already satisfied: certifi in c:\\users\\sahil\\appdata\\roaming\\python\\python39\\site-packages (from httpx->llama-index-core<0.12.0,>=0.11.7->llama-index) (2022.5.18.1)\n",
      "Requirement already satisfied: idna in c:\\users\\sahil\\anaconda3\\lib\\site-packages (from httpx->llama-index-core<0.12.0,>=0.11.7->llama-index) (3.2)\n",
      "Requirement already satisfied: httpcore==1.* in c:\\users\\sahil\\anaconda3\\lib\\site-packages (from httpx->llama-index-core<0.12.0,>=0.11.7->llama-index) (1.0.5)\n",
      "Requirement already satisfied: anyio in c:\\users\\sahil\\anaconda3\\lib\\site-packages (from httpx->llama-index-core<0.12.0,>=0.11.7->llama-index) (4.4.0)\n",
      "Requirement already satisfied: sniffio in c:\\users\\sahil\\anaconda3\\lib\\site-packages (from httpx->llama-index-core<0.12.0,>=0.11.7->llama-index) (1.2.0)\n",
      "Requirement already satisfied: h11<0.15,>=0.13 in c:\\users\\sahil\\anaconda3\\lib\\site-packages (from httpcore==1.*->httpx->llama-index-core<0.12.0,>=0.11.7->llama-index) (0.14.0)\n",
      "Requirement already satisfied: pandas in c:\\users\\sahil\\appdata\\roaming\\python\\python39\\site-packages (from llama-index-legacy<0.10.0,>=0.9.48->llama-index) (1.4.2)\n",
      "Requirement already satisfied: pypdf<5.0.0,>=4.0.1 in c:\\users\\sahil\\anaconda3\\lib\\site-packages (from llama-index-readers-file<0.3.0,>=0.2.0->llama-index) (4.3.1)\n",
      "Requirement already satisfied: beautifulsoup4<5.0.0,>=4.12.3 in c:\\users\\sahil\\anaconda3\\lib\\site-packages (from llama-index-readers-file<0.3.0,>=0.2.0->llama-index) (4.12.3)\n",
      "Requirement already satisfied: striprtf<0.0.27,>=0.0.26 in c:\\users\\sahil\\anaconda3\\lib\\site-packages (from llama-index-readers-file<0.3.0,>=0.2.0->llama-index) (0.0.26)\n",
      "Requirement already satisfied: soupsieve>1.2 in c:\\users\\sahil\\anaconda3\\lib\\site-packages (from beautifulsoup4<5.0.0,>=4.12.3->llama-index-readers-file<0.3.0,>=0.2.0->llama-index) (2.2.1)\n",
      "Requirement already satisfied: regex>=2021.8.3 in c:\\users\\sahil\\anaconda3\\lib\\site-packages (from nltk>3.8.1->llama-index) (2024.7.24)\n",
      "Requirement already satisfied: click in c:\\users\\sahil\\anaconda3\\lib\\site-packages (from nltk>3.8.1->llama-index) (8.0.3)\n",
      "Requirement already satisfied: joblib in c:\\users\\sahil\\anaconda3\\lib\\site-packages (from nltk>3.8.1->llama-index) (1.1.0)\n",
      "Requirement already satisfied: jiter<1,>=0.4.0 in c:\\users\\sahil\\anaconda3\\lib\\site-packages (from openai>=1.14.0->llama-index-agent-openai<0.4.0,>=0.3.1->llama-index) (0.5.0)\n",
      "Requirement already satisfied: distro<2,>=1.7.0 in c:\\users\\sahil\\anaconda3\\lib\\site-packages (from openai>=1.14.0->llama-index-agent-openai<0.4.0,>=0.3.1->llama-index) (1.9.0)\n",
      "Requirement already satisfied: exceptiongroup>=1.0.2 in c:\\users\\sahil\\anaconda3\\lib\\site-packages (from anyio->httpx->llama-index-core<0.12.0,>=0.11.7->llama-index) (1.2.2)\n",
      "Requirement already satisfied: tzdata in c:\\users\\sahil\\anaconda3\\lib\\site-packages (from pydantic<3.0.0,>=2.7.0->llama-index-core<0.12.0,>=0.11.7->llama-index) (2024.1)\n",
      "Requirement already satisfied: pydantic-core==2.23.2 in c:\\users\\sahil\\anaconda3\\lib\\site-packages (from pydantic<3.0.0,>=2.7.0->llama-index-core<0.12.0,>=0.11.7->llama-index) (2.23.2)\n",
      "Requirement already satisfied: annotated-types>=0.4.0 in c:\\users\\sahil\\anaconda3\\lib\\site-packages (from pydantic<3.0.0,>=2.7.0->llama-index-core<0.12.0,>=0.11.7->llama-index) (0.7.0)\n",
      "Requirement already satisfied: charset-normalizer<4,>=2 in c:\\users\\sahil\\anaconda3\\lib\\site-packages (from requests>=2.31.0->llama-index-core<0.12.0,>=0.11.7->llama-index) (2.0.4)\n",
      "Requirement already satisfied: urllib3<3,>=1.21.1 in c:\\users\\sahil\\anaconda3\\lib\\site-packages (from requests>=2.31.0->llama-index-core<0.12.0,>=0.11.7->llama-index) (1.26.7)\n",
      "Requirement already satisfied: greenlet!=0.4.17 in c:\\users\\sahil\\anaconda3\\lib\\site-packages (from SQLAlchemy[asyncio]>=1.4.49->llama-index-core<0.12.0,>=0.11.7->llama-index) (1.1.1)\n",
      "Requirement already satisfied: colorama in c:\\users\\sahil\\anaconda3\\lib\\site-packages (from tqdm<5.0.0,>=4.66.1->llama-index-core<0.12.0,>=0.11.7->llama-index) (0.4.4)\n",
      "Requirement already satisfied: mypy-extensions>=0.3.0 in c:\\users\\sahil\\anaconda3\\lib\\site-packages (from typing-inspect>=0.8.0->llama-index-core<0.12.0,>=0.11.7->llama-index) (0.4.3)\n",
      "Requirement already satisfied: marshmallow<4.0.0,>=3.18.0 in c:\\users\\sahil\\anaconda3\\lib\\site-packages (from dataclasses-json->llama-index-core<0.12.0,>=0.11.7->llama-index) (3.22.0)\n",
      "Requirement already satisfied: packaging>=17.0 in c:\\users\\sahil\\anaconda3\\lib\\site-packages (from marshmallow<4.0.0,>=3.18.0->dataclasses-json->llama-index-core<0.12.0,>=0.11.7->llama-index) (21.0)\n",
      "Requirement already satisfied: pyparsing>=2.0.2 in c:\\users\\sahil\\anaconda3\\lib\\site-packages (from packaging>=17.0->marshmallow<4.0.0,>=3.18.0->dataclasses-json->llama-index-core<0.12.0,>=0.11.7->llama-index) (3.0.4)\n",
      "Requirement already satisfied: pytz>=2020.1 in c:\\users\\sahil\\appdata\\roaming\\python\\python39\\site-packages (from pandas->llama-index-legacy<0.10.0,>=0.9.48->llama-index) (2022.1)\n",
      "Requirement already satisfied: python-dateutil>=2.8.1 in c:\\users\\sahil\\appdata\\roaming\\python\\python39\\site-packages (from pandas->llama-index-legacy<0.10.0,>=0.9.48->llama-index) (2.8.2)\n",
      "Requirement already satisfied: six>=1.5 in c:\\users\\sahil\\appdata\\roaming\\python\\python39\\site-packages (from python-dateutil>=2.8.1->pandas->llama-index-legacy<0.10.0,>=0.9.48->llama-index) (1.16.0)\n",
      "Note: you may need to restart the kernel to use updated packages.\n"
     ]
    },
    {
     "name": "stderr",
     "output_type": "stream",
     "text": [
      "WARNING: Ignoring invalid distribution -illow (c:\\users\\sahil\\appdata\\roaming\\python\\python39\\site-packages)\n",
      "WARNING: Ignoring invalid distribution -illow (c:\\users\\sahil\\appdata\\roaming\\python\\python39\\site-packages)\n",
      "WARNING: Ignoring invalid distribution -illow (c:\\users\\sahil\\appdata\\roaming\\python\\python39\\site-packages)\n",
      "WARNING: Ignoring invalid distribution -illow (c:\\users\\sahil\\appdata\\roaming\\python\\python39\\site-packages)\n",
      "WARNING: Ignoring invalid distribution -illow (c:\\users\\sahil\\appdata\\roaming\\python\\python39\\site-packages)\n",
      "WARNING: Ignoring invalid distribution -illow (c:\\users\\sahil\\appdata\\roaming\\python\\python39\\site-packages)\n"
     ]
    }
   ],
   "source": [
    "%pip install llama-index llama-parse"
   ]
  },
  {
   "cell_type": "code",
   "execution_count": 3,
   "metadata": {},
   "outputs": [
    {
     "name": "stdout",
     "output_type": "stream",
     "text": [
      "Requirement already satisfied: wget in c:\\users\\sahil\\anaconda3\\lib\\site-packages (3.2)\n"
     ]
    },
    {
     "name": "stderr",
     "output_type": "stream",
     "text": [
      "WARNING: Ignoring invalid distribution -illow (c:\\users\\sahil\\appdata\\roaming\\python\\python39\\site-packages)\n",
      "WARNING: Ignoring invalid distribution -illow (c:\\users\\sahil\\appdata\\roaming\\python\\python39\\site-packages)\n",
      "WARNING: Ignoring invalid distribution -illow (c:\\users\\sahil\\appdata\\roaming\\python\\python39\\site-packages)\n",
      "WARNING: Ignoring invalid distribution -illow (c:\\users\\sahil\\appdata\\roaming\\python\\python39\\site-packages)\n",
      "WARNING: Ignoring invalid distribution -illow (c:\\users\\sahil\\appdata\\roaming\\python\\python39\\site-packages)\n",
      "WARNING: Ignoring invalid distribution -illow (c:\\users\\sahil\\appdata\\roaming\\python\\python39\\site-packages)\n"
     ]
    }
   ],
   "source": [
    "!pip install wget\n"
   ]
  },
  {
   "cell_type": "code",
   "execution_count": 4,
   "metadata": {},
   "outputs": [
    {
     "name": "stdout",
     "output_type": "stream",
     "text": [
      "Requirement already satisfied: requests in c:\\users\\sahil\\anaconda3\\lib\\site-packages (2.32.3)\n",
      "Requirement already satisfied: urllib3<3,>=1.21.1 in c:\\users\\sahil\\anaconda3\\lib\\site-packages (from requests) (1.26.7)\n",
      "Requirement already satisfied: idna<4,>=2.5 in c:\\users\\sahil\\anaconda3\\lib\\site-packages (from requests) (3.2)\n",
      "Requirement already satisfied: charset-normalizer<4,>=2 in c:\\users\\sahil\\anaconda3\\lib\\site-packages (from requests) (2.0.4)\n",
      "Requirement already satisfied: certifi>=2017.4.17 in c:\\users\\sahil\\appdata\\roaming\\python\\python39\\site-packages (from requests) (2022.5.18.1)\n"
     ]
    },
    {
     "name": "stderr",
     "output_type": "stream",
     "text": [
      "WARNING: Ignoring invalid distribution -illow (c:\\users\\sahil\\appdata\\roaming\\python\\python39\\site-packages)\n",
      "WARNING: Ignoring invalid distribution -illow (c:\\users\\sahil\\appdata\\roaming\\python\\python39\\site-packages)\n",
      "WARNING: Ignoring invalid distribution -illow (c:\\users\\sahil\\appdata\\roaming\\python\\python39\\site-packages)\n",
      "WARNING: Ignoring invalid distribution -illow (c:\\users\\sahil\\appdata\\roaming\\python\\python39\\site-packages)\n",
      "WARNING: Ignoring invalid distribution -illow (c:\\users\\sahil\\appdata\\roaming\\python\\python39\\site-packages)\n",
      "WARNING: Ignoring invalid distribution -illow (c:\\users\\sahil\\appdata\\roaming\\python\\python39\\site-packages)\n"
     ]
    }
   ],
   "source": [
    "# Install requests if needed\n",
    "!pip install requests\n",
    "\n",
    "import requests\n",
    "import zipfile\n",
    "import os\n",
    "\n",
    "# Download the file\n",
    "url = \"https://github.com/user-attachments/files/16447759/data.zip\"\n",
    "response = requests.get(url)\n",
    "with open(\"data.zip\", \"wb\") as file:\n",
    "    file.write(response.content)\n",
    "\n",
    "# Unzip the file\n",
    "with zipfile.ZipFile(\"data.zip\", 'r') as zip_ref:\n",
    "    zip_ref.extractall()  # Extract to current directory\n",
    "\n",
    "# Remove the zip file\n",
    "os.remove(\"data.zip\")\n"
   ]
  },
  {
   "cell_type": "code",
   "execution_count": 5,
   "metadata": {},
   "outputs": [],
   "source": [
    "import nest_asyncio\n",
    "\n",
    "nest_asyncio.apply()"
   ]
  },
  {
   "cell_type": "markdown",
   "metadata": {},
   "source": [
    "Set up your OpenAI and LlamaCloud keys."
   ]
  },
  {
   "cell_type": "code",
   "execution_count": 6,
   "metadata": {},
   "outputs": [
    {
     "name": "stdout",
     "output_type": "stream",
     "text": [
      "Requirement already satisfied: python-dotenv in c:\\users\\sahil\\anaconda3\\lib\\site-packages (1.0.1)\n"
     ]
    },
    {
     "name": "stderr",
     "output_type": "stream",
     "text": [
      "WARNING: Ignoring invalid distribution -illow (c:\\users\\sahil\\appdata\\roaming\\python\\python39\\site-packages)\n",
      "WARNING: Ignoring invalid distribution -illow (c:\\users\\sahil\\appdata\\roaming\\python\\python39\\site-packages)\n",
      "WARNING: Ignoring invalid distribution -illow (c:\\users\\sahil\\appdata\\roaming\\python\\python39\\site-packages)\n",
      "WARNING: Ignoring invalid distribution -illow (c:\\users\\sahil\\appdata\\roaming\\python\\python39\\site-packages)\n",
      "WARNING: Ignoring invalid distribution -illow (c:\\users\\sahil\\appdata\\roaming\\python\\python39\\site-packages)\n",
      "WARNING: Ignoring invalid distribution -illow (c:\\users\\sahil\\appdata\\roaming\\python\\python39\\site-packages)\n"
     ]
    }
   ],
   "source": [
    "!pip install python-dotenv"
   ]
  },
  {
   "cell_type": "markdown",
   "metadata": {},
   "source": [
    "Loading the dotenv library"
   ]
  },
  {
   "cell_type": "code",
   "execution_count": 7,
   "metadata": {},
   "outputs": [],
   "source": [
    "from dotenv import load_dotenv\n",
    "import os\n",
    "\n",
    "# Load the .env file\n",
    "load_dotenv(\"secrets.env\")\n",
    "\n",
    "# Now you can access the secrets\n",
    "#openai_api_key = os.getenv(\"OPENAI_API_KEY\")\n",
    "llama_cloud_api_key = os.getenv(\"LLAMA_CLOUD_API_KEY\")"
   ]
  },
  {
   "cell_type": "code",
   "execution_count": 8,
   "metadata": {},
   "outputs": [
    {
     "name": "stdout",
     "output_type": "stream",
     "text": [
      "LLAMA_CLOUD_API_KEY llx-zXIDu0BX7EEEaPrgR2uLRNXuIgVWoIUw5SoFtp1cbS9PEYh3\n"
     ]
    }
   ],
   "source": [
    "print(\"LLAMA_CLOUD_API_KEY\", llama_cloud_api_key)  # Verify it prints the actual key\n"
   ]
  },
  {
   "cell_type": "markdown",
   "metadata": {},
   "source": [
    "Configuring Ollama for embedding "
   ]
  },
  {
   "cell_type": "code",
   "execution_count": 9,
   "metadata": {},
   "outputs": [
    {
     "name": "stdout",
     "output_type": "stream",
     "text": [
      "Requirement already satisfied: llama-index.llms.ollama in c:\\users\\sahil\\anaconda3\\lib\\site-packages (0.3.1)\n",
      "Requirement already satisfied: llama-index-core<0.12.0,>=0.11.0 in c:\\users\\sahil\\anaconda3\\lib\\site-packages (from llama-index.llms.ollama) (0.11.7)\n",
      "Requirement already satisfied: ollama>=0.3.0 in c:\\users\\sahil\\anaconda3\\lib\\site-packages (from llama-index.llms.ollama) (0.3.2)\n",
      "Requirement already satisfied: wrapt in c:\\users\\sahil\\anaconda3\\lib\\site-packages (from llama-index-core<0.12.0,>=0.11.0->llama-index.llms.ollama) (1.12.1)\n",
      "Requirement already satisfied: typing-inspect>=0.8.0 in c:\\users\\sahil\\anaconda3\\lib\\site-packages (from llama-index-core<0.12.0,>=0.11.0->llama-index.llms.ollama) (0.9.0)\n",
      "Requirement already satisfied: nest-asyncio<2.0.0,>=1.5.8 in c:\\users\\sahil\\anaconda3\\lib\\site-packages (from llama-index-core<0.12.0,>=0.11.0->llama-index.llms.ollama) (1.6.0)\n",
      "Requirement already satisfied: aiohttp<4.0.0,>=3.8.6 in c:\\users\\sahil\\anaconda3\\lib\\site-packages (from llama-index-core<0.12.0,>=0.11.0->llama-index.llms.ollama) (3.10.5)\n",
      "Requirement already satisfied: dirtyjson<2.0.0,>=1.0.8 in c:\\users\\sahil\\anaconda3\\lib\\site-packages (from llama-index-core<0.12.0,>=0.11.0->llama-index.llms.ollama) (1.0.8)\n",
      "Requirement already satisfied: requests>=2.31.0 in c:\\users\\sahil\\anaconda3\\lib\\site-packages (from llama-index-core<0.12.0,>=0.11.0->llama-index.llms.ollama) (2.32.3)\n",
      "Requirement already satisfied: tenacity!=8.4.0,<9.0.0,>=8.2.0 in c:\\users\\sahil\\anaconda3\\lib\\site-packages (from llama-index-core<0.12.0,>=0.11.0->llama-index.llms.ollama) (8.5.0)\n",
      "Requirement already satisfied: nltk>3.8.1 in c:\\users\\sahil\\anaconda3\\lib\\site-packages (from llama-index-core<0.12.0,>=0.11.0->llama-index.llms.ollama) (3.9.1)\n",
      "Requirement already satisfied: pillow>=9.0.0 in c:\\users\\sahil\\anaconda3\\lib\\site-packages (from llama-index-core<0.12.0,>=0.11.0->llama-index.llms.ollama) (10.4.0)\n",
      "Requirement already satisfied: tiktoken>=0.3.3 in c:\\users\\sahil\\anaconda3\\lib\\site-packages (from llama-index-core<0.12.0,>=0.11.0->llama-index.llms.ollama) (0.7.0)\n",
      "Requirement already satisfied: PyYAML>=6.0.1 in c:\\users\\sahil\\anaconda3\\lib\\site-packages (from llama-index-core<0.12.0,>=0.11.0->llama-index.llms.ollama) (6.0.2)\n",
      "Requirement already satisfied: fsspec>=2023.5.0 in c:\\users\\sahil\\anaconda3\\lib\\site-packages (from llama-index-core<0.12.0,>=0.11.0->llama-index.llms.ollama) (2024.9.0)\n",
      "Requirement already satisfied: numpy<2.0.0 in c:\\users\\sahil\\appdata\\roaming\\python\\python39\\site-packages (from llama-index-core<0.12.0,>=0.11.0->llama-index.llms.ollama) (1.22.4)\n",
      "Requirement already satisfied: deprecated>=1.2.9.3 in c:\\users\\sahil\\anaconda3\\lib\\site-packages (from llama-index-core<0.12.0,>=0.11.0->llama-index.llms.ollama) (1.2.14)\n",
      "Requirement already satisfied: tqdm<5.0.0,>=4.66.1 in c:\\users\\sahil\\anaconda3\\lib\\site-packages (from llama-index-core<0.12.0,>=0.11.0->llama-index.llms.ollama) (4.66.5)\n",
      "Requirement already satisfied: pydantic<3.0.0,>=2.7.0 in c:\\users\\sahil\\anaconda3\\lib\\site-packages (from llama-index-core<0.12.0,>=0.11.0->llama-index.llms.ollama) (2.9.0)\n",
      "Requirement already satisfied: SQLAlchemy[asyncio]>=1.4.49 in c:\\users\\sahil\\anaconda3\\lib\\site-packages (from llama-index-core<0.12.0,>=0.11.0->llama-index.llms.ollama) (2.0.34)\n",
      "Requirement already satisfied: networkx>=3.0 in c:\\users\\sahil\\anaconda3\\lib\\site-packages (from llama-index-core<0.12.0,>=0.11.0->llama-index.llms.ollama) (3.2.1)\n",
      "Requirement already satisfied: typing-extensions>=4.5.0 in c:\\users\\sahil\\anaconda3\\lib\\site-packages (from llama-index-core<0.12.0,>=0.11.0->llama-index.llms.ollama) (4.12.2)\n",
      "Requirement already satisfied: httpx in c:\\users\\sahil\\anaconda3\\lib\\site-packages (from llama-index-core<0.12.0,>=0.11.0->llama-index.llms.ollama) (0.27.2)\n",
      "Requirement already satisfied: dataclasses-json in c:\\users\\sahil\\anaconda3\\lib\\site-packages (from llama-index-core<0.12.0,>=0.11.0->llama-index.llms.ollama) (0.6.7)\n",
      "Requirement already satisfied: attrs>=17.3.0 in c:\\users\\sahil\\anaconda3\\lib\\site-packages (from aiohttp<4.0.0,>=3.8.6->llama-index-core<0.12.0,>=0.11.0->llama-index.llms.ollama) (21.2.0)\n",
      "Requirement already satisfied: async-timeout<5.0,>=4.0 in c:\\users\\sahil\\anaconda3\\lib\\site-packages (from aiohttp<4.0.0,>=3.8.6->llama-index-core<0.12.0,>=0.11.0->llama-index.llms.ollama) (4.0.3)\n",
      "Requirement already satisfied: aiohappyeyeballs>=2.3.0 in c:\\users\\sahil\\anaconda3\\lib\\site-packages (from aiohttp<4.0.0,>=3.8.6->llama-index-core<0.12.0,>=0.11.0->llama-index.llms.ollama) (2.4.0)\n",
      "Requirement already satisfied: yarl<2.0,>=1.0 in c:\\users\\sahil\\anaconda3\\lib\\site-packages (from aiohttp<4.0.0,>=3.8.6->llama-index-core<0.12.0,>=0.11.0->llama-index.llms.ollama) (1.10.0)\n",
      "Requirement already satisfied: multidict<7.0,>=4.5 in c:\\users\\sahil\\anaconda3\\lib\\site-packages (from aiohttp<4.0.0,>=3.8.6->llama-index-core<0.12.0,>=0.11.0->llama-index.llms.ollama) (6.0.5)\n",
      "Requirement already satisfied: aiosignal>=1.1.2 in c:\\users\\sahil\\anaconda3\\lib\\site-packages (from aiohttp<4.0.0,>=3.8.6->llama-index-core<0.12.0,>=0.11.0->llama-index.llms.ollama) (1.3.1)\n",
      "Requirement already satisfied: frozenlist>=1.1.1 in c:\\users\\sahil\\anaconda3\\lib\\site-packages (from aiohttp<4.0.0,>=3.8.6->llama-index-core<0.12.0,>=0.11.0->llama-index.llms.ollama) (1.4.1)\n",
      "Requirement already satisfied: regex>=2021.8.3 in c:\\users\\sahil\\anaconda3\\lib\\site-packages (from nltk>3.8.1->llama-index-core<0.12.0,>=0.11.0->llama-index.llms.ollama) (2024.7.24)\n",
      "Requirement already satisfied: joblib in c:\\users\\sahil\\anaconda3\\lib\\site-packages (from nltk>3.8.1->llama-index-core<0.12.0,>=0.11.0->llama-index.llms.ollama) (1.1.0)\n",
      "Requirement already satisfied: click in c:\\users\\sahil\\anaconda3\\lib\\site-packages (from nltk>3.8.1->llama-index-core<0.12.0,>=0.11.0->llama-index.llms.ollama) (8.0.3)\n",
      "Note: you may need to restart the kernel to use updated packages.Requirement already satisfied: certifi in c:\\users\\sahil\\appdata\\roaming\\python\\python39\\site-packages (from httpx->llama-index-core<0.12.0,>=0.11.0->llama-index.llms.ollama) (2022.5.18.1)\n"
     ]
    },
    {
     "name": "stderr",
     "output_type": "stream",
     "text": [
      "WARNING: Ignoring invalid distribution -illow (c:\\users\\sahil\\appdata\\roaming\\python\\python39\\site-packages)\n",
      "WARNING: Ignoring invalid distribution -illow (c:\\users\\sahil\\appdata\\roaming\\python\\python39\\site-packages)\n",
      "WARNING: Ignoring invalid distribution -illow (c:\\users\\sahil\\appdata\\roaming\\python\\python39\\site-packages)\n",
      "WARNING: Ignoring invalid distribution -illow (c:\\users\\sahil\\appdata\\roaming\\python\\python39\\site-packages)\n",
      "WARNING: Ignoring invalid distribution -illow (c:\\users\\sahil\\appdata\\roaming\\python\\python39\\site-packages)\n",
      "WARNING: Ignoring invalid distribution -illow (c:\\users\\sahil\\appdata\\roaming\\python\\python39\\site-packages)\n"
     ]
    },
    {
     "name": "stdout",
     "output_type": "stream",
     "text": [
      "\n",
      "Requirement already satisfied: sniffio in c:\\users\\sahil\\anaconda3\\lib\\site-packages (from httpx->llama-index-core<0.12.0,>=0.11.0->llama-index.llms.ollama) (1.2.0)\n",
      "Requirement already satisfied: anyio in c:\\users\\sahil\\anaconda3\\lib\\site-packages (from httpx->llama-index-core<0.12.0,>=0.11.0->llama-index.llms.ollama) (4.4.0)\n",
      "Requirement already satisfied: httpcore==1.* in c:\\users\\sahil\\anaconda3\\lib\\site-packages (from httpx->llama-index-core<0.12.0,>=0.11.0->llama-index.llms.ollama) (1.0.5)\n",
      "Requirement already satisfied: idna in c:\\users\\sahil\\anaconda3\\lib\\site-packages (from httpx->llama-index-core<0.12.0,>=0.11.0->llama-index.llms.ollama) (3.2)\n",
      "Requirement already satisfied: h11<0.15,>=0.13 in c:\\users\\sahil\\anaconda3\\lib\\site-packages (from httpcore==1.*->httpx->llama-index-core<0.12.0,>=0.11.0->llama-index.llms.ollama) (0.14.0)\n",
      "Requirement already satisfied: annotated-types>=0.4.0 in c:\\users\\sahil\\anaconda3\\lib\\site-packages (from pydantic<3.0.0,>=2.7.0->llama-index-core<0.12.0,>=0.11.0->llama-index.llms.ollama) (0.7.0)\n",
      "Requirement already satisfied: pydantic-core==2.23.2 in c:\\users\\sahil\\anaconda3\\lib\\site-packages (from pydantic<3.0.0,>=2.7.0->llama-index-core<0.12.0,>=0.11.0->llama-index.llms.ollama) (2.23.2)\n",
      "Requirement already satisfied: tzdata in c:\\users\\sahil\\anaconda3\\lib\\site-packages (from pydantic<3.0.0,>=2.7.0->llama-index-core<0.12.0,>=0.11.0->llama-index.llms.ollama) (2024.1)\n",
      "Requirement already satisfied: charset-normalizer<4,>=2 in c:\\users\\sahil\\anaconda3\\lib\\site-packages (from requests>=2.31.0->llama-index-core<0.12.0,>=0.11.0->llama-index.llms.ollama) (2.0.4)\n",
      "Requirement already satisfied: urllib3<3,>=1.21.1 in c:\\users\\sahil\\anaconda3\\lib\\site-packages (from requests>=2.31.0->llama-index-core<0.12.0,>=0.11.0->llama-index.llms.ollama) (1.26.7)\n",
      "Requirement already satisfied: greenlet!=0.4.17 in c:\\users\\sahil\\anaconda3\\lib\\site-packages (from SQLAlchemy[asyncio]>=1.4.49->llama-index-core<0.12.0,>=0.11.0->llama-index.llms.ollama) (1.1.1)\n",
      "Requirement already satisfied: colorama in c:\\users\\sahil\\anaconda3\\lib\\site-packages (from tqdm<5.0.0,>=4.66.1->llama-index-core<0.12.0,>=0.11.0->llama-index.llms.ollama) (0.4.4)\n",
      "Requirement already satisfied: mypy-extensions>=0.3.0 in c:\\users\\sahil\\anaconda3\\lib\\site-packages (from typing-inspect>=0.8.0->llama-index-core<0.12.0,>=0.11.0->llama-index.llms.ollama) (0.4.3)\n",
      "Requirement already satisfied: exceptiongroup>=1.0.2 in c:\\users\\sahil\\anaconda3\\lib\\site-packages (from anyio->httpx->llama-index-core<0.12.0,>=0.11.0->llama-index.llms.ollama) (1.2.2)\n",
      "Requirement already satisfied: marshmallow<4.0.0,>=3.18.0 in c:\\users\\sahil\\anaconda3\\lib\\site-packages (from dataclasses-json->llama-index-core<0.12.0,>=0.11.0->llama-index.llms.ollama) (3.22.0)\n",
      "Requirement already satisfied: packaging>=17.0 in c:\\users\\sahil\\anaconda3\\lib\\site-packages (from marshmallow<4.0.0,>=3.18.0->dataclasses-json->llama-index-core<0.12.0,>=0.11.0->llama-index.llms.ollama) (21.0)\n",
      "Requirement already satisfied: pyparsing>=2.0.2 in c:\\users\\sahil\\anaconda3\\lib\\site-packages (from packaging>=17.0->marshmallow<4.0.0,>=3.18.0->dataclasses-json->llama-index-core<0.12.0,>=0.11.0->llama-index.llms.ollama) (3.0.4)\n"
     ]
    }
   ],
   "source": [
    "pip install llama-index.llms.ollama\n"
   ]
  },
  {
   "cell_type": "code",
   "execution_count": 10,
   "metadata": {},
   "outputs": [
    {
     "name": "stdout",
     "output_type": "stream",
     "text": [
      "Requirement already satisfied: llama_index.embeddings.huggingface in c:\\users\\sahil\\anaconda3\\lib\\site-packages (0.3.1)\n",
      "Requirement already satisfied: sentence-transformers>=2.6.1 in c:\\users\\sahil\\anaconda3\\lib\\site-packages (from llama_index.embeddings.huggingface) (3.0.1)\n",
      "Requirement already satisfied: llama-index-core<0.12.0,>=0.11.0 in c:\\users\\sahil\\anaconda3\\lib\\site-packages (from llama_index.embeddings.huggingface) (0.11.7)\n",
      "Requirement already satisfied: huggingface-hub[inference]>=0.19.0 in c:\\users\\sahil\\anaconda3\\lib\\site-packages (from llama_index.embeddings.huggingface) (0.24.6)\n",
      "Requirement already satisfied: packaging>=20.9 in c:\\users\\sahil\\anaconda3\\lib\\site-packages (from huggingface-hub[inference]>=0.19.0->llama_index.embeddings.huggingface) (21.0)\n",
      "Requirement already satisfied: requests in c:\\users\\sahil\\anaconda3\\lib\\site-packages (from huggingface-hub[inference]>=0.19.0->llama_index.embeddings.huggingface) (2.32.3)\n",
      "Requirement already satisfied: tqdm>=4.42.1 in c:\\users\\sahil\\anaconda3\\lib\\site-packages (from huggingface-hub[inference]>=0.19.0->llama_index.embeddings.huggingface) (4.66.5)\n",
      "Requirement already satisfied: filelock in c:\\users\\sahil\\anaconda3\\lib\\site-packages (from huggingface-hub[inference]>=0.19.0->llama_index.embeddings.huggingface) (3.3.1)\n",
      "Requirement already satisfied: typing-extensions>=3.7.4.3 in c:\\users\\sahil\\anaconda3\\lib\\site-packages (from huggingface-hub[inference]>=0.19.0->llama_index.embeddings.huggingface) (4.12.2)\n",
      "Requirement already satisfied: fsspec>=2023.5.0 in c:\\users\\sahil\\anaconda3\\lib\\site-packages (from huggingface-hub[inference]>=0.19.0->llama_index.embeddings.huggingface) (2024.9.0)\n",
      "Requirement already satisfied: pyyaml>=5.1 in c:\\users\\sahil\\anaconda3\\lib\\site-packages (from huggingface-hub[inference]>=0.19.0->llama_index.embeddings.huggingface) (6.0.2)\n",
      "Requirement already satisfied: minijinja>=1.0 in c:\\users\\sahil\\anaconda3\\lib\\site-packages (from huggingface-hub[inference]>=0.19.0->llama_index.embeddings.huggingface) (2.2.0)\n",
      "Requirement already satisfied: aiohttp in c:\\users\\sahil\\anaconda3\\lib\\site-packages (from huggingface-hub[inference]>=0.19.0->llama_index.embeddings.huggingface) (3.10.5)\n",
      "Requirement already satisfied: dataclasses-json in c:\\users\\sahil\\anaconda3\\lib\\site-packages (from llama-index-core<0.12.0,>=0.11.0->llama_index.embeddings.huggingface) (0.6.7)\n",
      "Requirement already satisfied: nltk>3.8.1 in c:\\users\\sahil\\anaconda3\\lib\\site-packages (from llama-index-core<0.12.0,>=0.11.0->llama_index.embeddings.huggingface) (3.9.1)\n",
      "Requirement already satisfied: networkx>=3.0 in c:\\users\\sahil\\anaconda3\\lib\\site-packages (from llama-index-core<0.12.0,>=0.11.0->llama_index.embeddings.huggingface) (3.2.1)\n",
      "Requirement already satisfied: nest-asyncio<2.0.0,>=1.5.8 in c:\\users\\sahil\\anaconda3\\lib\\site-packages (from llama-index-core<0.12.0,>=0.11.0->llama_index.embeddings.huggingface) (1.6.0)\n",
      "Requirement already satisfied: tenacity!=8.4.0,<9.0.0,>=8.2.0 in c:\\users\\sahil\\anaconda3\\lib\\site-packages (from llama-index-core<0.12.0,>=0.11.0->llama_index.embeddings.huggingface) (8.5.0)\n",
      "Requirement already satisfied: SQLAlchemy[asyncio]>=1.4.49 in c:\\users\\sahil\\anaconda3\\lib\\site-packages (from llama-index-core<0.12.0,>=0.11.0->llama_index.embeddings.huggingface) (2.0.34)\n",
      "Requirement already satisfied: pillow>=9.0.0 in c:\\users\\sahil\\anaconda3\\lib\\site-packages (from llama-index-core<0.12.0,>=0.11.0->llama_index.embeddings.huggingface) (10.4.0)\n",
      "Requirement already satisfied: deprecated>=1.2.9.3 in c:\\users\\sahil\\anaconda3\\lib\\site-packages (from llama-index-core<0.12.0,>=0.11.0->llama_index.embeddings.huggingface) (1.2.14)\n",
      "Requirement already satisfied: wrapt in c:\\users\\sahil\\anaconda3\\lib\\site-packages (from llama-index-core<0.12.0,>=0.11.0->llama_index.embeddings.huggingface) (1.12.1)\n",
      "Requirement already satisfied: pydantic<3.0.0,>=2.7.0 in c:\\users\\sahil\\anaconda3\\lib\\site-packages (from llama-index-core<0.12.0,>=0.11.0->llama_index.embeddings.huggingface) (2.9.0)\n",
      "Requirement already satisfied: tiktoken>=0.3.3 in c:\\users\\sahil\\anaconda3\\lib\\site-packages (from llama-index-core<0.12.0,>=0.11.0->llama_index.embeddings.huggingface) (0.7.0)\n",
      "Requirement already satisfied: numpy<2.0.0 in c:\\users\\sahil\\appdata\\roaming\\python\\python39\\site-packages (from llama-index-core<0.12.0,>=0.11.0->llama_index.embeddings.huggingface) (1.22.4)\n",
      "Requirement already satisfied: httpx in c:\\users\\sahil\\anaconda3\\lib\\site-packages (from llama-index-core<0.12.0,>=0.11.0->llama_index.embeddings.huggingface) (0.27.2)\n",
      "Requirement already satisfied: dirtyjson<2.0.0,>=1.0.8 in c:\\users\\sahil\\anaconda3\\lib\\site-packages (from llama-index-core<0.12.0,>=0.11.0->llama_index.embeddings.huggingface) (1.0.8)\n",
      "Requirement already satisfied: typing-inspect>=0.8.0 in c:\\users\\sahil\\anaconda3\\lib\\site-packages (from llama-index-core<0.12.0,>=0.11.0->llama_index.embeddings.huggingface) (0.9.0)\n",
      "Requirement already satisfied: multidict<7.0,>=4.5 in c:\\users\\sahil\\anaconda3\\lib\\site-packages (from aiohttp->huggingface-hub[inference]>=0.19.0->llama_index.embeddings.huggingface) (6.0.5)\n",
      "Requirement already satisfied: attrs>=17.3.0 in c:\\users\\sahil\\anaconda3\\lib\\site-packages (from aiohttp->huggingface-hub[inference]>=0.19.0->llama_index.embeddings.huggingface) (21.2.0)\n",
      "Requirement already satisfied: frozenlist>=1.1.1 in c:\\users\\sahil\\anaconda3\\lib\\site-packages (from aiohttp->huggingface-hub[inference]>=0.19.0->llama_index.embeddings.huggingface) (1.4.1)\n",
      "Requirement already satisfied: async-timeout<5.0,>=4.0 in c:\\users\\sahil\\anaconda3\\lib\\site-packages (from aiohttp->huggingface-hub[inference]>=0.19.0->llama_index.embeddings.huggingface) (4.0.3)\n",
      "Requirement already satisfied: yarl<2.0,>=1.0 in c:\\users\\sahil\\anaconda3\\lib\\site-packages (from aiohttp->huggingface-hub[inference]>=0.19.0->llama_index.embeddings.huggingface) (1.10.0)\n",
      "Requirement already satisfied: aiosignal>=1.1.2 in c:\\users\\sahil\\anaconda3\\lib\\site-packages (from aiohttp->huggingface-hub[inference]>=0.19.0->llama_index.embeddings.huggingface) (1.3.1)\n",
      "Requirement already satisfied: aiohappyeyeballs>=2.3.0 in c:\\users\\sahil\\anaconda3\\lib\\site-packages (from aiohttp->huggingface-hub[inference]>=0.19.0->llama_index.embeddings.huggingface) (2.4.0)\n",
      "Requirement already satisfied: joblib in c:\\users\\sahil\\anaconda3\\lib\\site-packages (from nltk>3.8.1->llama-index-core<0.12.0,>=0.11.0->llama_index.embeddings.huggingface) (1.1.0)\n",
      "Requirement already satisfied: regex>=2021.8.3 in c:\\users\\sahil\\anaconda3\\lib\\site-packages (from nltk>3.8.1->llama-index-core<0.12.0,>=0.11.0->llama_index.embeddings.huggingface) (2024.7.24)\n",
      "Requirement already satisfied: click in c:\\users\\sahil\\anaconda3\\lib\\site-packages (from nltk>3.8.1->llama-index-core<0.12.0,>=0.11.0->llama_index.embeddings.huggingface) (8.0.3)\n",
      "Requirement already satisfied: pyparsing>=2.0.2 in c:\\users\\sahil\\anaconda3\\lib\\site-packages (from packaging>=20.9->huggingface-hub[inference]>=0.19.0->llama_index.embeddings.huggingface) (3.0.4)\n",
      "Requirement already satisfied: tzdata in c:\\users\\sahil\\anaconda3\\lib\\site-packages (from pydantic<3.0.0,>=2.7.0->llama-index-core<0.12.0,>=0.11.0->llama_index.embeddings.huggingface) (2024.1)\n",
      "Requirement already satisfied: pydantic-core==2.23.2 in c:\\users\\sahil\\anaconda3\\lib\\site-packages (from pydantic<3.0.0,>=2.7.0->llama-index-core<0.12.0,>=0.11.0->llama_index.embeddings.huggingface) (2.23.2)\n",
      "Requirement already satisfied: annotated-types>=0.4.0 in c:\\users\\sahil\\anaconda3\\lib\\site-packages (from pydantic<3.0.0,>=2.7.0->llama-index-core<0.12.0,>=0.11.0->llama_index.embeddings.huggingface) (0.7.0)\n",
      "Requirement already satisfied: charset-normalizer<4,>=2 in c:\\users\\sahil\\anaconda3\\lib\\site-packages (from requests->huggingface-hub[inference]>=0.19.0->llama_index.embeddings.huggingface) (2.0.4)\n",
      "Requirement already satisfied: urllib3<3,>=1.21.1 in c:\\users\\sahil\\anaconda3\\lib\\site-packages (from requests->huggingface-hub[inference]>=0.19.0->llama_index.embeddings.huggingface) (1.26.7)\n",
      "Requirement already satisfied: certifi>=2017.4.17 in c:\\users\\sahil\\appdata\\roaming\\python\\python39\\site-packages (from requests->huggingface-hub[inference]>=0.19.0->llama_index.embeddings.huggingface) (2022.5.18.1)\n",
      "Requirement already satisfied: idna<4,>=2.5 in c:\\users\\sahil\\anaconda3\\lib\\site-packages (from requests->huggingface-hub[inference]>=0.19.0->llama_index.embeddings.huggingface) (3.2)\n",
      "Requirement already satisfied: torch>=1.11.0 in c:\\users\\sahil\\anaconda3\\lib\\site-packages (from sentence-transformers>=2.6.1->llama_index.embeddings.huggingface) (2.4.1)\n",
      "Requirement already satisfied: transformers<5.0.0,>=4.34.0 in c:\\users\\sahil\\anaconda3\\lib\\site-packages (from sentence-transformers>=2.6.1->llama_index.embeddings.huggingface) (4.44.2)\n",
      "Requirement already satisfied: scipy in c:\\users\\sahil\\appdata\\roaming\\python\\python39\\site-packages (from sentence-transformers>=2.6.1->llama_index.embeddings.huggingface) (1.8.0)\n",
      "Requirement already satisfied: scikit-learn in c:\\users\\sahil\\anaconda3\\lib\\site-packages (from sentence-transformers>=2.6.1->llama_index.embeddings.huggingface) (0.24.2)\n",
      "Requirement already satisfied: greenlet!=0.4.17 in c:\\users\\sahil\\anaconda3\\lib\\site-packages (from SQLAlchemy[asyncio]>=1.4.49->llama-index-core<0.12.0,>=0.11.0->llama_index.embeddings.huggingface) (1.1.1)\n",
      "Requirement already satisfied: jinja2 in c:\\users\\sahil\\anaconda3\\lib\\site-packages (from torch>=1.11.0->sentence-transformers>=2.6.1->llama_index.embeddings.huggingface) (2.11.3)\n",
      "Requirement already satisfied: sympy in c:\\users\\sahil\\anaconda3\\lib\\site-packages (from torch>=1.11.0->sentence-transformers>=2.6.1->llama_index.embeddings.huggingface) (1.9)\n",
      "Requirement already satisfied: colorama in c:\\users\\sahil\\anaconda3\\lib\\site-packages (from tqdm>=4.42.1->huggingface-hub[inference]>=0.19.0->llama_index.embeddings.huggingface) (0.4.4)\n",
      "Requirement already satisfied: safetensors>=0.4.1 in c:\\users\\sahil\\anaconda3\\lib\\site-packages (from transformers<5.0.0,>=4.34.0->sentence-transformers>=2.6.1->llama_index.embeddings.huggingface) (0.4.5)\n",
      "Requirement already satisfied: tokenizers<0.20,>=0.19 in c:\\users\\sahil\\anaconda3\\lib\\site-packages (from transformers<5.0.0,>=4.34.0->sentence-transformers>=2.6.1->llama_index.embeddings.huggingface) (0.19.1)\n",
      "Requirement already satisfied: mypy-extensions>=0.3.0 in c:\\users\\sahil\\anaconda3\\lib\\site-packages (from typing-inspect>=0.8.0->llama-index-core<0.12.0,>=0.11.0->llama_index.embeddings.huggingface) (0.4.3)\n",
      "Requirement already satisfied: marshmallow<4.0.0,>=3.18.0 in c:\\users\\sahil\\anaconda3\\lib\\site-packages (from dataclasses-json->llama-index-core<0.12.0,>=0.11.0->llama_index.embeddings.huggingface) (3.22.0)\n",
      "Requirement already satisfied: httpcore==1.* in c:\\users\\sahil\\anaconda3\\lib\\site-packages (from httpx->llama-index-core<0.12.0,>=0.11.0->llama_index.embeddings.huggingface) (1.0.5)\n",
      "Requirement already satisfied: anyio in c:\\users\\sahil\\anaconda3\\lib\\site-packages (from httpx->llama-index-core<0.12.0,>=0.11.0->llama_index.embeddings.huggingface) (4.4.0)\n",
      "Requirement already satisfied: sniffio in c:\\users\\sahil\\anaconda3\\lib\\site-packages (from httpx->llama-index-core<0.12.0,>=0.11.0->llama_index.embeddings.huggingface) (1.2.0)\n",
      "Requirement already satisfied: h11<0.15,>=0.13 in c:\\users\\sahil\\anaconda3\\lib\\site-packages (from httpcore==1.*->httpx->llama-index-core<0.12.0,>=0.11.0->llama_index.embeddings.huggingface) (0.14.0)\n",
      "Requirement already satisfied: exceptiongroup>=1.0.2 in c:\\users\\sahil\\anaconda3\\lib\\site-packages (from anyio->httpx->llama-index-core<0.12.0,>=0.11.0->llama_index.embeddings.huggingface) (1.2.2)\n",
      "Requirement already satisfied: MarkupSafe>=0.23 in c:\\users\\sahil\\anaconda3\\lib\\site-packages (from jinja2->torch>=1.11.0->sentence-transformers>=2.6.1->llama_index.embeddings.huggingface) (1.1.1)\n",
      "Requirement already satisfied: threadpoolctl>=2.0.0 in c:\\users\\sahil\\anaconda3\\lib\\site-packages (from scikit-learn->sentence-transformers>=2.6.1->llama_index.embeddings.huggingface) (2.2.0)\n",
      "Requirement already satisfied: mpmath>=0.19 in c:\\users\\sahil\\anaconda3\\lib\\site-packages (from sympy->torch>=1.11.0->sentence-transformers>=2.6.1->llama_index.embeddings.huggingface) (1.2.1)\n",
      "Note: you may need to restart the kernel to use updated packages.\n"
     ]
    },
    {
     "name": "stderr",
     "output_type": "stream",
     "text": [
      "WARNING: Ignoring invalid distribution -illow (c:\\users\\sahil\\appdata\\roaming\\python\\python39\\site-packages)\n",
      "WARNING: Ignoring invalid distribution -illow (c:\\users\\sahil\\appdata\\roaming\\python\\python39\\site-packages)\n",
      "WARNING: Ignoring invalid distribution -illow (c:\\users\\sahil\\appdata\\roaming\\python\\python39\\site-packages)\n",
      "WARNING: Ignoring invalid distribution -illow (c:\\users\\sahil\\appdata\\roaming\\python\\python39\\site-packages)\n",
      "WARNING: Ignoring invalid distribution -illow (c:\\users\\sahil\\appdata\\roaming\\python\\python39\\site-packages)\n",
      "WARNING: Ignoring invalid distribution -illow (c:\\users\\sahil\\appdata\\roaming\\python\\python39\\site-packages)\n"
     ]
    }
   ],
   "source": [
    "pip install llama_index.embeddings.huggingface\n"
   ]
  },
  {
   "cell_type": "code",
   "execution_count": 11,
   "metadata": {},
   "outputs": [
    {
     "name": "stdout",
     "output_type": "stream",
     "text": [
      "Requirement already satisfied: llama_index.core in c:\\users\\sahil\\anaconda3\\lib\\site-packages (0.11.7)\n",
      "Requirement already satisfied: dirtyjson<2.0.0,>=1.0.8 in c:\\users\\sahil\\anaconda3\\lib\\site-packages (from llama_index.core) (1.0.8)\n",
      "Requirement already satisfied: httpx in c:\\users\\sahil\\anaconda3\\lib\\site-packages (from llama_index.core) (0.27.2)\n",
      "Requirement already satisfied: aiohttp<4.0.0,>=3.8.6 in c:\\users\\sahil\\anaconda3\\lib\\site-packages (from llama_index.core) (3.10.5)\n",
      "Requirement already satisfied: pillow>=9.0.0 in c:\\users\\sahil\\anaconda3\\lib\\site-packages (from llama_index.core) (10.4.0)\n",
      "Requirement already satisfied: nltk>3.8.1 in c:\\users\\sahil\\anaconda3\\lib\\site-packages (from llama_index.core) (3.9.1)\n",
      "Requirement already satisfied: pydantic<3.0.0,>=2.7.0 in c:\\users\\sahil\\anaconda3\\lib\\site-packages (from llama_index.core) (2.9.0)\n",
      "Requirement already satisfied: tqdm<5.0.0,>=4.66.1 in c:\\users\\sahil\\anaconda3\\lib\\site-packages (from llama_index.core) (4.66.5)\n",
      "Requirement already satisfied: typing-extensions>=4.5.0 in c:\\users\\sahil\\anaconda3\\lib\\site-packages (from llama_index.core) (4.12.2)\n",
      "Requirement already satisfied: PyYAML>=6.0.1 in c:\\users\\sahil\\anaconda3\\lib\\site-packages (from llama_index.core) (6.0.2)\n",
      "Requirement already satisfied: networkx>=3.0 in c:\\users\\sahil\\anaconda3\\lib\\site-packages (from llama_index.core) (3.2.1)\n",
      "Requirement already satisfied: wrapt in c:\\users\\sahil\\anaconda3\\lib\\site-packages (from llama_index.core) (1.12.1)\n",
      "Requirement already satisfied: typing-inspect>=0.8.0 in c:\\users\\sahil\\anaconda3\\lib\\site-packages (from llama_index.core) (0.9.0)\n",
      "Requirement already satisfied: deprecated>=1.2.9.3 in c:\\users\\sahil\\anaconda3\\lib\\site-packages (from llama_index.core) (1.2.14)\n",
      "Requirement already satisfied: tenacity!=8.4.0,<9.0.0,>=8.2.0 in c:\\users\\sahil\\anaconda3\\lib\\site-packages (from llama_index.core) (8.5.0)\n",
      "Requirement already satisfied: tiktoken>=0.3.3 in c:\\users\\sahil\\anaconda3\\lib\\site-packages (from llama_index.core) (0.7.0)\n",
      "Requirement already satisfied: nest-asyncio<2.0.0,>=1.5.8 in c:\\users\\sahil\\anaconda3\\lib\\site-packages (from llama_index.core) (1.6.0)\n",
      "Requirement already satisfied: SQLAlchemy[asyncio]>=1.4.49 in c:\\users\\sahil\\anaconda3\\lib\\site-packages (from llama_index.core) (2.0.34)\n",
      "Requirement already satisfied: fsspec>=2023.5.0 in c:\\users\\sahil\\anaconda3\\lib\\site-packages (from llama_index.core) (2024.9.0)\n",
      "Requirement already satisfied: requests>=2.31.0 in c:\\users\\sahil\\anaconda3\\lib\\site-packages (from llama_index.core) (2.32.3)\n",
      "Requirement already satisfied: dataclasses-json in c:\\users\\sahil\\anaconda3\\lib\\site-packages (from llama_index.core) (0.6.7)\n",
      "Requirement already satisfied: numpy<2.0.0 in c:\\users\\sahil\\appdata\\roaming\\python\\python39\\site-packages (from llama_index.core) (1.22.4)\n",
      "Requirement already satisfied: aiohappyeyeballs>=2.3.0 in c:\\users\\sahil\\anaconda3\\lib\\site-packages (from aiohttp<4.0.0,>=3.8.6->llama_index.core) (2.4.0)\n",
      "Requirement already satisfied: aiosignal>=1.1.2 in c:\\users\\sahil\\anaconda3\\lib\\site-packages (from aiohttp<4.0.0,>=3.8.6->llama_index.core) (1.3.1)\n",
      "Requirement already satisfied: frozenlist>=1.1.1 in c:\\users\\sahil\\anaconda3\\lib\\site-packages (from aiohttp<4.0.0,>=3.8.6->llama_index.core) (1.4.1)\n",
      "Requirement already satisfied: async-timeout<5.0,>=4.0 in c:\\users\\sahil\\anaconda3\\lib\\site-packages (from aiohttp<4.0.0,>=3.8.6->llama_index.core) (4.0.3)\n",
      "Requirement already satisfied: yarl<2.0,>=1.0 in c:\\users\\sahil\\anaconda3\\lib\\site-packages (from aiohttp<4.0.0,>=3.8.6->llama_index.core) (1.10.0)\n",
      "Requirement already satisfied: multidict<7.0,>=4.5 in c:\\users\\sahil\\anaconda3\\lib\\site-packages (from aiohttp<4.0.0,>=3.8.6->llama_index.core) (6.0.5)\n",
      "Requirement already satisfied: attrs>=17.3.0 in c:\\users\\sahil\\anaconda3\\lib\\site-packages (from aiohttp<4.0.0,>=3.8.6->llama_index.core) (21.2.0)\n",
      "Requirement already satisfied: click in c:\\users\\sahil\\anaconda3\\lib\\site-packages (from nltk>3.8.1->llama_index.core) (8.0.3)\n",
      "Requirement already satisfied: regex>=2021.8.3 in c:\\users\\sahil\\anaconda3\\lib\\site-packages (from nltk>3.8.1->llama_index.core) (2024.7.24)\n",
      "Requirement already satisfied: joblib in c:\\users\\sahil\\anaconda3\\lib\\site-packages (from nltk>3.8.1->llama_index.core) (1.1.0)\n",
      "Requirement already satisfied: pydantic-core==2.23.2 in c:\\users\\sahil\\anaconda3\\lib\\site-packages (from pydantic<3.0.0,>=2.7.0->llama_index.core) (2.23.2)\n",
      "Requirement already satisfied: annotated-types>=0.4.0 in c:\\users\\sahil\\anaconda3\\lib\\site-packages (from pydantic<3.0.0,>=2.7.0->llama_index.core) (0.7.0)\n",
      "Requirement already satisfied: tzdata in c:\\users\\sahil\\anaconda3\\lib\\site-packages (from pydantic<3.0.0,>=2.7.0->llama_index.core) (2024.1)\n",
      "Requirement already satisfied: charset-normalizer<4,>=2 in c:\\users\\sahil\\anaconda3\\lib\\site-packages (from requests>=2.31.0->llama_index.core) (2.0.4)\n",
      "Requirement already satisfied: urllib3<3,>=1.21.1 in c:\\users\\sahil\\anaconda3\\lib\\site-packages (from requests>=2.31.0->llama_index.core) (1.26.7)\n",
      "Requirement already satisfied: idna<4,>=2.5 in c:\\users\\sahil\\anaconda3\\lib\\site-packages (from requests>=2.31.0->llama_index.core) (3.2)\n",
      "Requirement already satisfied: certifi>=2017.4.17 in c:\\users\\sahil\\appdata\\roaming\\python\\python39\\site-packages (from requests>=2.31.0->llama_index.core) (2022.5.18.1)\n",
      "Requirement already satisfied: greenlet!=0.4.17 in c:\\users\\sahil\\anaconda3\\lib\\site-packages (from SQLAlchemy[asyncio]>=1.4.49->llama_index.core) (1.1.1)\n",
      "Requirement already satisfied: colorama in c:\\users\\sahil\\anaconda3\\lib\\site-packages (from tqdm<5.0.0,>=4.66.1->llama_index.core) (0.4.4)\n",
      "Requirement already satisfied: mypy-extensions>=0.3.0 in c:\\users\\sahil\\anaconda3\\lib\\site-packages (from typing-inspect>=0.8.0->llama_index.core) (0.4.3)\n",
      "Requirement already satisfied: marshmallow<4.0.0,>=3.18.0 in c:\\users\\sahil\\anaconda3\\lib\\site-packages (from dataclasses-json->llama_index.core) (3.22.0)\n",
      "Requirement already satisfied: packaging>=17.0 in c:\\users\\sahil\\anaconda3\\lib\\site-packages (from marshmallow<4.0.0,>=3.18.0->dataclasses-json->llama_index.core) (21.0)\n",
      "Requirement already satisfied: pyparsing>=2.0.2 in c:\\users\\sahil\\anaconda3\\lib\\site-packages (from packaging>=17.0->marshmallow<4.0.0,>=3.18.0->dataclasses-json->llama_index.core) (3.0.4)\n",
      "Requirement already satisfied: anyio in c:\\users\\sahil\\anaconda3\\lib\\site-packages (from httpx->llama_index.core) (4.4.0)\n",
      "Requirement already satisfied: httpcore==1.* in c:\\users\\sahil\\anaconda3\\lib\\site-packages (from httpx->llama_index.core) (1.0.5)\n",
      "Requirement already satisfied: sniffio in c:\\users\\sahil\\anaconda3\\lib\\site-packages (from httpx->llama_index.core) (1.2.0)\n",
      "Requirement already satisfied: h11<0.15,>=0.13 in c:\\users\\sahil\\anaconda3\\lib\\site-packages (from httpcore==1.*->httpx->llama_index.core) (0.14.0)\n",
      "Requirement already satisfied: exceptiongroup>=1.0.2 in c:\\users\\sahil\\anaconda3\\lib\\site-packages (from anyio->httpx->llama_index.core) (1.2.2)\n",
      "Note: you may need to restart the kernel to use updated packages.\n"
     ]
    },
    {
     "name": "stderr",
     "output_type": "stream",
     "text": [
      "WARNING: Ignoring invalid distribution -illow (c:\\users\\sahil\\appdata\\roaming\\python\\python39\\site-packages)\n",
      "WARNING: Ignoring invalid distribution -illow (c:\\users\\sahil\\appdata\\roaming\\python\\python39\\site-packages)\n",
      "WARNING: Ignoring invalid distribution -illow (c:\\users\\sahil\\appdata\\roaming\\python\\python39\\site-packages)\n",
      "WARNING: Ignoring invalid distribution -illow (c:\\users\\sahil\\appdata\\roaming\\python\\python39\\site-packages)\n",
      "WARNING: Ignoring invalid distribution -illow (c:\\users\\sahil\\appdata\\roaming\\python\\python39\\site-packages)\n",
      "WARNING: Ignoring invalid distribution -illow (c:\\users\\sahil\\appdata\\roaming\\python\\python39\\site-packages)\n"
     ]
    }
   ],
   "source": [
    "pip install llama_index.core"
   ]
  },
  {
   "cell_type": "code",
   "execution_count": null,
   "metadata": {},
   "outputs": [],
   "source": []
  },
  {
   "cell_type": "markdown",
   "metadata": {},
   "source": [
    "## Code Implementation\n",
    "\n",
    "Set up LlamaParse. We want to parse the PDF files into markdown, translating the tabular data into markdown tables. To ensure accuracy, we will use the GPT-4o multimodal model to parse the PDFs."
   ]
  },
  {
   "cell_type": "code",
   "execution_count": 12,
   "metadata": {},
   "outputs": [],
   "source": [
    "from llama_parse import LlamaParse\n",
    "\n",
    "parser = LlamaParse(\n",
    "    result_type=\"markdown\",\n",
    "    parsing_instruction=\"Provided are a series of US legal documents.\",\n",
    "    use_vendor_multimodal_model=True,\n",
    "    vendor_multimodal_model_name=\"openai-gpt4o\",\n",
    "    show_progress=True,\n",
    ")\n",
    "\n",
    "DATA_DIR = \"data\"\n",
    "\n",
    "\n",
    "def get_data_files(data_dir=DATA_DIR) -> list[str]:\n",
    "    files = []\n",
    "    for f in os.listdir(data_dir):\n",
    "        fname = os.path.join(data_dir, f)\n",
    "        if os.path.isfile(fname):\n",
    "            files.append(fname)\n",
    "    return files\n",
    "\n",
    "\n",
    "files = get_data_files()"
   ]
  },
  {
   "cell_type": "markdown",
   "metadata": {},
   "source": [
    "Load data from parser into documents containing parsed Markdown text from the legal document PDFs."
   ]
  },
  {
   "cell_type": "code",
   "execution_count": 13,
   "metadata": {},
   "outputs": [
    {
     "name": "stderr",
     "output_type": "stream",
     "text": [
      "Parsing files: 100%|█████████████████████████████████████████████████████████████████████| 8/8 [00:12<00:00,  1.50s/it]\n"
     ]
    }
   ],
   "source": [
    "documents = parser.load_data(\n",
    "    files,\n",
    "    extra_info={\"name\": \"US legal documents provided by the Library of Congress.\"},\n",
    ")"
   ]
  },
  {
   "cell_type": "markdown",
   "metadata": {},
   "source": [
    "Setup LlamaIndex. Set the default LLM to GPT-4o (a multi-modal model), and create an index from the documents, and persist these documents to disk. If these documents have already been persisted, then load index from the persisted docs."
   ]
  },
  {
   "cell_type": "code",
   "execution_count": 26,
   "metadata": {},
   "outputs": [
    {
     "name": "stdout",
     "output_type": "stream",
     "text": [
      "Collecting llama-index-embeddings-ollamaNote: you may need to restart the kernel to use updated packages.\n"
     ]
    },
    {
     "name": "stderr",
     "output_type": "stream",
     "text": [
      "WARNING: Ignoring invalid distribution -illow (c:\\users\\sahil\\appdata\\roaming\\python\\python39\\site-packages)\n",
      "WARNING: Ignoring invalid distribution -illow (c:\\users\\sahil\\appdata\\roaming\\python\\python39\\site-packages)\n",
      "WARNING: Ignoring invalid distribution -illow (c:\\users\\sahil\\appdata\\roaming\\python\\python39\\site-packages)\n",
      "WARNING: Ignoring invalid distribution -illow (c:\\users\\sahil\\appdata\\roaming\\python\\python39\\site-packages)\n",
      "WARNING: Ignoring invalid distribution -illow (c:\\users\\sahil\\appdata\\roaming\\python\\python39\\site-packages)\n",
      "WARNING: Ignoring invalid distribution -illow (c:\\users\\sahil\\appdata\\roaming\\python\\python39\\site-packages)"
     ]
    },
    {
     "name": "stdout",
     "output_type": "stream",
     "text": [
      "\n",
      "  Downloading llama_index_embeddings_ollama-0.3.0-py3-none-any.whl (2.6 kB)\n",
      "Requirement already satisfied: llama-index-llms-ollama in c:\\users\\sahil\\anaconda3\\lib\\site-packages (0.3.1)\n",
      "Requirement already satisfied: ollama<0.4.0,>=0.3.1 in c:\\users\\sahil\\anaconda3\\lib\\site-packages (from llama-index-embeddings-ollama) (0.3.2)\n",
      "Requirement already satisfied: llama-index-core<0.12.0,>=0.11.0 in c:\\users\\sahil\\anaconda3\\lib\\site-packages (from llama-index-embeddings-ollama) (0.11.7)\n",
      "Requirement already satisfied: pillow>=9.0.0 in c:\\users\\sahil\\anaconda3\\lib\\site-packages (from llama-index-core<0.12.0,>=0.11.0->llama-index-embeddings-ollama) (10.4.0)\n",
      "Requirement already satisfied: PyYAML>=6.0.1 in c:\\users\\sahil\\anaconda3\\lib\\site-packages (from llama-index-core<0.12.0,>=0.11.0->llama-index-embeddings-ollama) (6.0.2)\n",
      "Requirement already satisfied: aiohttp<4.0.0,>=3.8.6 in c:\\users\\sahil\\anaconda3\\lib\\site-packages (from llama-index-core<0.12.0,>=0.11.0->llama-index-embeddings-ollama) (3.10.5)\n",
      "Requirement already satisfied: networkx>=3.0 in c:\\users\\sahil\\anaconda3\\lib\\site-packages (from llama-index-core<0.12.0,>=0.11.0->llama-index-embeddings-ollama) (3.2.1)\n",
      "Requirement already satisfied: fsspec>=2023.5.0 in c:\\users\\sahil\\anaconda3\\lib\\site-packages (from llama-index-core<0.12.0,>=0.11.0->llama-index-embeddings-ollama) (2024.9.0)\n",
      "Requirement already satisfied: numpy<2.0.0 in c:\\users\\sahil\\appdata\\roaming\\python\\python39\\site-packages (from llama-index-core<0.12.0,>=0.11.0->llama-index-embeddings-ollama) (1.22.4)\n",
      "Requirement already satisfied: tiktoken>=0.3.3 in c:\\users\\sahil\\anaconda3\\lib\\site-packages (from llama-index-core<0.12.0,>=0.11.0->llama-index-embeddings-ollama) (0.7.0)\n",
      "Requirement already satisfied: dirtyjson<2.0.0,>=1.0.8 in c:\\users\\sahil\\anaconda3\\lib\\site-packages (from llama-index-core<0.12.0,>=0.11.0->llama-index-embeddings-ollama) (1.0.8)\n",
      "Requirement already satisfied: dataclasses-json in c:\\users\\sahil\\anaconda3\\lib\\site-packages (from llama-index-core<0.12.0,>=0.11.0->llama-index-embeddings-ollama) (0.6.7)\n",
      "Requirement already satisfied: pydantic<3.0.0,>=2.7.0 in c:\\users\\sahil\\anaconda3\\lib\\site-packages (from llama-index-core<0.12.0,>=0.11.0->llama-index-embeddings-ollama) (2.9.0)\n",
      "Requirement already satisfied: typing-extensions>=4.5.0 in c:\\users\\sahil\\anaconda3\\lib\\site-packages (from llama-index-core<0.12.0,>=0.11.0->llama-index-embeddings-ollama) (4.12.2)\n",
      "Requirement already satisfied: deprecated>=1.2.9.3 in c:\\users\\sahil\\anaconda3\\lib\\site-packages (from llama-index-core<0.12.0,>=0.11.0->llama-index-embeddings-ollama) (1.2.14)\n",
      "Requirement already satisfied: tenacity!=8.4.0,<9.0.0,>=8.2.0 in c:\\users\\sahil\\anaconda3\\lib\\site-packages (from llama-index-core<0.12.0,>=0.11.0->llama-index-embeddings-ollama) (8.5.0)\n",
      "Requirement already satisfied: SQLAlchemy[asyncio]>=1.4.49 in c:\\users\\sahil\\anaconda3\\lib\\site-packages (from llama-index-core<0.12.0,>=0.11.0->llama-index-embeddings-ollama) (2.0.34)\n",
      "Requirement already satisfied: nltk>3.8.1 in c:\\users\\sahil\\anaconda3\\lib\\site-packages (from llama-index-core<0.12.0,>=0.11.0->llama-index-embeddings-ollama) (3.9.1)\n",
      "Requirement already satisfied: httpx in c:\\users\\sahil\\anaconda3\\lib\\site-packages (from llama-index-core<0.12.0,>=0.11.0->llama-index-embeddings-ollama) (0.27.2)\n",
      "Requirement already satisfied: typing-inspect>=0.8.0 in c:\\users\\sahil\\anaconda3\\lib\\site-packages (from llama-index-core<0.12.0,>=0.11.0->llama-index-embeddings-ollama) (0.9.0)\n",
      "Requirement already satisfied: wrapt in c:\\users\\sahil\\anaconda3\\lib\\site-packages (from llama-index-core<0.12.0,>=0.11.0->llama-index-embeddings-ollama) (1.12.1)\n",
      "Requirement already satisfied: tqdm<5.0.0,>=4.66.1 in c:\\users\\sahil\\anaconda3\\lib\\site-packages (from llama-index-core<0.12.0,>=0.11.0->llama-index-embeddings-ollama) (4.66.5)\n",
      "Requirement already satisfied: requests>=2.31.0 in c:\\users\\sahil\\anaconda3\\lib\\site-packages (from llama-index-core<0.12.0,>=0.11.0->llama-index-embeddings-ollama) (2.32.3)\n",
      "Requirement already satisfied: nest-asyncio<2.0.0,>=1.5.8 in c:\\users\\sahil\\anaconda3\\lib\\site-packages (from llama-index-core<0.12.0,>=0.11.0->llama-index-embeddings-ollama) (1.6.0)\n",
      "Requirement already satisfied: aiosignal>=1.1.2 in c:\\users\\sahil\\anaconda3\\lib\\site-packages (from aiohttp<4.0.0,>=3.8.6->llama-index-core<0.12.0,>=0.11.0->llama-index-embeddings-ollama) (1.3.1)\n",
      "Requirement already satisfied: aiohappyeyeballs>=2.3.0 in c:\\users\\sahil\\anaconda3\\lib\\site-packages (from aiohttp<4.0.0,>=3.8.6->llama-index-core<0.12.0,>=0.11.0->llama-index-embeddings-ollama) (2.4.0)\n",
      "Requirement already satisfied: frozenlist>=1.1.1 in c:\\users\\sahil\\anaconda3\\lib\\site-packages (from aiohttp<4.0.0,>=3.8.6->llama-index-core<0.12.0,>=0.11.0->llama-index-embeddings-ollama) (1.4.1)\n",
      "Requirement already satisfied: multidict<7.0,>=4.5 in c:\\users\\sahil\\anaconda3\\lib\\site-packages (from aiohttp<4.0.0,>=3.8.6->llama-index-core<0.12.0,>=0.11.0->llama-index-embeddings-ollama) (6.0.5)\n",
      "Requirement already satisfied: yarl<2.0,>=1.0 in c:\\users\\sahil\\anaconda3\\lib\\site-packages (from aiohttp<4.0.0,>=3.8.6->llama-index-core<0.12.0,>=0.11.0->llama-index-embeddings-ollama) (1.10.0)\n",
      "Requirement already satisfied: async-timeout<5.0,>=4.0 in c:\\users\\sahil\\anaconda3\\lib\\site-packages (from aiohttp<4.0.0,>=3.8.6->llama-index-core<0.12.0,>=0.11.0->llama-index-embeddings-ollama) (4.0.3)\n",
      "Requirement already satisfied: attrs>=17.3.0 in c:\\users\\sahil\\anaconda3\\lib\\site-packages (from aiohttp<4.0.0,>=3.8.6->llama-index-core<0.12.0,>=0.11.0->llama-index-embeddings-ollama) (21.2.0)\n",
      "Requirement already satisfied: regex>=2021.8.3 in c:\\users\\sahil\\anaconda3\\lib\\site-packages (from nltk>3.8.1->llama-index-core<0.12.0,>=0.11.0->llama-index-embeddings-ollama) (2024.7.24)\n",
      "Requirement already satisfied: click in c:\\users\\sahil\\anaconda3\\lib\\site-packages (from nltk>3.8.1->llama-index-core<0.12.0,>=0.11.0->llama-index-embeddings-ollama) (8.0.3)\n",
      "Requirement already satisfied: joblib in c:\\users\\sahil\\anaconda3\\lib\\site-packages (from nltk>3.8.1->llama-index-core<0.12.0,>=0.11.0->llama-index-embeddings-ollama) (1.1.0)\n",
      "Requirement already satisfied: idna in c:\\users\\sahil\\anaconda3\\lib\\site-packages (from httpx->llama-index-core<0.12.0,>=0.11.0->llama-index-embeddings-ollama) (3.2)\n",
      "Requirement already satisfied: sniffio in c:\\users\\sahil\\anaconda3\\lib\\site-packages (from httpx->llama-index-core<0.12.0,>=0.11.0->llama-index-embeddings-ollama) (1.2.0)\n",
      "Requirement already satisfied: anyio in c:\\users\\sahil\\anaconda3\\lib\\site-packages (from httpx->llama-index-core<0.12.0,>=0.11.0->llama-index-embeddings-ollama) (4.4.0)\n",
      "Requirement already satisfied: certifi in c:\\users\\sahil\\appdata\\roaming\\python\\python39\\site-packages (from httpx->llama-index-core<0.12.0,>=0.11.0->llama-index-embeddings-ollama) (2022.5.18.1)\n",
      "Requirement already satisfied: httpcore==1.* in c:\\users\\sahil\\anaconda3\\lib\\site-packages (from httpx->llama-index-core<0.12.0,>=0.11.0->llama-index-embeddings-ollama) (1.0.5)\n",
      "Requirement already satisfied: h11<0.15,>=0.13 in c:\\users\\sahil\\anaconda3\\lib\\site-packages (from httpcore==1.*->httpx->llama-index-core<0.12.0,>=0.11.0->llama-index-embeddings-ollama) (0.14.0)\n",
      "Requirement already satisfied: tzdata in c:\\users\\sahil\\anaconda3\\lib\\site-packages (from pydantic<3.0.0,>=2.7.0->llama-index-core<0.12.0,>=0.11.0->llama-index-embeddings-ollama) (2024.1)\n",
      "Requirement already satisfied: pydantic-core==2.23.2 in c:\\users\\sahil\\anaconda3\\lib\\site-packages (from pydantic<3.0.0,>=2.7.0->llama-index-core<0.12.0,>=0.11.0->llama-index-embeddings-ollama) (2.23.2)\n",
      "Requirement already satisfied: annotated-types>=0.4.0 in c:\\users\\sahil\\anaconda3\\lib\\site-packages (from pydantic<3.0.0,>=2.7.0->llama-index-core<0.12.0,>=0.11.0->llama-index-embeddings-ollama) (0.7.0)\n",
      "Requirement already satisfied: urllib3<3,>=1.21.1 in c:\\users\\sahil\\anaconda3\\lib\\site-packages (from requests>=2.31.0->llama-index-core<0.12.0,>=0.11.0->llama-index-embeddings-ollama) (1.26.7)\n",
      "Requirement already satisfied: charset-normalizer<4,>=2 in c:\\users\\sahil\\anaconda3\\lib\\site-packages (from requests>=2.31.0->llama-index-core<0.12.0,>=0.11.0->llama-index-embeddings-ollama) (2.0.4)\n",
      "Requirement already satisfied: greenlet!=0.4.17 in c:\\users\\sahil\\anaconda3\\lib\\site-packages (from SQLAlchemy[asyncio]>=1.4.49->llama-index-core<0.12.0,>=0.11.0->llama-index-embeddings-ollama) (1.1.1)\n",
      "Requirement already satisfied: colorama in c:\\users\\sahil\\anaconda3\\lib\\site-packages (from tqdm<5.0.0,>=4.66.1->llama-index-core<0.12.0,>=0.11.0->llama-index-embeddings-ollama) (0.4.4)\n",
      "Requirement already satisfied: mypy-extensions>=0.3.0 in c:\\users\\sahil\\anaconda3\\lib\\site-packages (from typing-inspect>=0.8.0->llama-index-core<0.12.0,>=0.11.0->llama-index-embeddings-ollama) (0.4.3)\n",
      "Requirement already satisfied: exceptiongroup>=1.0.2 in c:\\users\\sahil\\anaconda3\\lib\\site-packages (from anyio->httpx->llama-index-core<0.12.0,>=0.11.0->llama-index-embeddings-ollama) (1.2.2)\n",
      "Requirement already satisfied: marshmallow<4.0.0,>=3.18.0 in c:\\users\\sahil\\anaconda3\\lib\\site-packages (from dataclasses-json->llama-index-core<0.12.0,>=0.11.0->llama-index-embeddings-ollama) (3.22.0)\n",
      "Requirement already satisfied: packaging>=17.0 in c:\\users\\sahil\\anaconda3\\lib\\site-packages (from marshmallow<4.0.0,>=3.18.0->dataclasses-json->llama-index-core<0.12.0,>=0.11.0->llama-index-embeddings-ollama) (21.0)\n",
      "Requirement already satisfied: pyparsing>=2.0.2 in c:\\users\\sahil\\anaconda3\\lib\\site-packages (from packaging>=17.0->marshmallow<4.0.0,>=3.18.0->dataclasses-json->llama-index-core<0.12.0,>=0.11.0->llama-index-embeddings-ollama) (3.0.4)\n",
      "Installing collected packages: llama-index-embeddings-ollama\n",
      "Successfully installed llama-index-embeddings-ollama-0.3.0\n"
     ]
    },
    {
     "name": "stderr",
     "output_type": "stream",
     "text": [
      "\n"
     ]
    }
   ],
   "source": [
    "pip install llama-index-embeddings-ollama llama-index-llms-ollama"
   ]
  },
  {
   "cell_type": "code",
   "execution_count": 28,
   "metadata": {},
   "outputs": [
    {
     "name": "stdout",
     "output_type": "stream",
     "text": [
      "This post is a certification document from the Commonwealth of Massachusetts regarding an examination of the Barre Savings Bank. It details that the report on the bank's compliance with consumer and fair lending rules, as well as the Community Reinvestment Act (CRA), has been read to or by the undersigned. \n",
      "\n",
      "The event this post likely pertains to is a formal review of the Barre Savings Bank conducted for compliance with relevant regulations.  \n",
      "\n"
     ]
    }
   ],
   "source": [
    "from llama_index.core import (\n",
    "    VectorStoreIndex,\n",
    "    StorageContext,\n",
    "    load_index_from_storage,\n",
    "    Settings,\n",
    ")\n",
    "# from llama_index.embeddings.openai import OpenAIEmbedding\n",
    "# from llama_index.llms.openai import OpenAI\n",
    "\n",
    "# embed_model = OpenAIEmbedding(model=\"text-embedding-3-large\")\n",
    "# llm = OpenAI(\"gpt-4o\")\n",
    "\n",
    "# Settings.llm = llm\n",
    "# Settings.embed_model = embed_model\n",
    "\n",
    "\n",
    "\n",
    "from llama_index.core import VectorStoreIndex, SimpleDirectoryReader, Settings\n",
    "from llama_index.llms.ollama import Ollama\n",
    "from llama_index.embeddings.ollama import OllamaEmbedding\n",
    "\n",
    "\n",
    "# models\n",
    "Settings.embed_model = OllamaEmbedding(model_name=\"all-minilm\")\n",
    "Settings.llm = Ollama(model=\"gemma2:2b\", temperature=0, request_timeout=360.0, options={'num_ctx':4096})\n",
    "\n",
    "index = VectorStoreIndex.from_documents(documents)\n",
    "\n",
    "query_engine = index.as_query_engine()\n",
    "response = query_engine.query(\"Why was this post written? What event was it at?\")\n",
    "print(response)\n",
    "\n",
    "\n",
    "\n",
    "# from llama_index.llms.ollama import Ollama\n",
    "# from llama_index.embeddings.huggingface import HuggingFaceEmbedding\n",
    "\n",
    "# embed_model = HuggingFaceEmbedding(\n",
    "#     model_name=\"BAAI/bge-small-en-v1.5\"\n",
    "# )\n",
    "\n",
    "# llm = Ollama(model=\"llama2\", request_timeout=120.0)\n",
    "\n",
    "# Settings.llm = llm\n",
    "# Settings.embed_model = embed_model\n",
    "\n",
    "# if not os.path.exists(\"storage_legal\"):\n",
    "#     index = VectorStoreIndex(documents, embed_model=embed_model)\n",
    "#     index.storage_context.persist(persist_dir=\"./storage_legal\")\n",
    "# else:\n",
    "#     ctx = StorageContext.from_defaults(persist_dir=\"./storage_legal\")\n",
    "#     index = load_index_from_storage(ctx)\n",
    "\n",
    "# query_engine = index.as_query_engine()"
   ]
  },
  {
   "cell_type": "markdown",
   "metadata": {},
   "source": [
    "## Example Queries"
   ]
  },
  {
   "cell_type": "code",
   "execution_count": 20,
   "metadata": {},
   "outputs": [
    {
     "data": {
      "text/markdown": [
       "Empty Response"
      ],
      "text/plain": [
       "<IPython.core.display.Markdown object>"
      ]
     },
     "metadata": {},
     "output_type": "display_data"
    }
   ],
   "source": [
    "from IPython.display import display, Markdown\n",
    "\n",
    "response = query_engine.query(\n",
    "    \"Are there documents here?\"\n",
    ")\n",
    "display(Markdown(str(response)))"
   ]
  },
  {
   "cell_type": "code",
   "execution_count": 29,
   "metadata": {},
   "outputs": [
    {
     "data": {
      "text/markdown": [
       "Mr. Kubarych believes foreign markets are attractive because they offer a high potential for growth and return on investment. He attributes this to several factors, including the strong economic data of the US, the commitment to fiscal discipline, an independent central bank pursuing monetary policy effectively, and a bipartisan commitment to open markets and an enterprise-driven economy.  \n"
      ],
      "text/plain": [
       "<IPython.core.display.Markdown object>"
      ]
     },
     "metadata": {},
     "output_type": "display_data"
    }
   ],
   "source": [
    "response = query_engine.query(\n",
    "    \"Why does Mr. Kubarych believe foreign markets are so important?\"\n",
    ")\n",
    "display(Markdown(str(response)))"
   ]
  },
  {
   "cell_type": "code",
   "execution_count": null,
   "metadata": {},
   "outputs": [],
   "source": [
    "response = query_engine.query(\n",
    "    \"Who is against the proposal of offshore drilling in CA and why?\"\n",
    ")\n",
    "display(Markdown(str(response)))"
   ]
  },
  {
   "cell_type": "code",
   "execution_count": null,
   "metadata": {},
   "outputs": [],
   "source": [
    "response = query_engine.query(\n",
    "    \"What is the purpose of the Ocean Science and Technology Subcommittee?\"\n",
    ")\n",
    "display(Markdown(str(response)))"
   ]
  },
  {
   "cell_type": "code",
   "execution_count": null,
   "metadata": {},
   "outputs": [],
   "source": [
    "response = query_engine.query(\"Why is the immigration appeal dismissed?\")\n",
    "display(Markdown(str(response)))"
   ]
  },
  {
   "cell_type": "code",
   "execution_count": null,
   "metadata": {},
   "outputs": [],
   "source": [
    "response = query_engine.query(\"What is an advance pricing agreement?\")\n",
    "display(Markdown(str(response)))"
   ]
  }
 ],
 "metadata": {
  "kernelspec": {
   "display_name": "Python 3 (ipykernel)",
   "language": "python",
   "name": "python3"
  },
  "language_info": {
   "codemirror_mode": {
    "name": "ipython",
    "version": 3
   },
   "file_extension": ".py",
   "mimetype": "text/x-python",
   "name": "python",
   "nbconvert_exporter": "python",
   "pygments_lexer": "ipython3",
   "version": "3.9.7"
  }
 },
 "nbformat": 4,
 "nbformat_minor": 2
}
